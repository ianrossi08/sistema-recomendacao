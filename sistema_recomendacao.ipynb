{
 "cells": [
  {
   "cell_type": "markdown",
   "metadata": {},
   "source": [
    "# Case de Clustering e Recomendação"
   ]
  },
  {
   "cell_type": "markdown",
   "metadata": {},
   "source": [
    "O CEO da Amazon contratou um time de cientistas de dados\n",
    "para trabalhar em diferentes vertentes da empresa, e você\n",
    "ficou encarregado de fazer um sistema de recomendação para\n",
    "os clientes Amazon. Para isso, te deram acesso à uma base de\n",
    "dados não muito estruturada em Json: um arquivo de\n",
    "metadata com informações dos produtos e outro com as\n",
    "avaliações."
   ]
  },
  {
   "cell_type": "markdown",
   "metadata": {},
   "source": [
    "O CEO deseja que seu algoritmo de recomendação seja\n",
    "exclusivamente em cima de avaliações verificadas (campo\n",
    "`verified`=True no arquivo de avaliações). Contudo, há uma\n",
    "base sem classificação e que o CEO faz questão de que seja\n",
    "adicionada no sistema de recomendação (valores com missing\n",
    "value na coluna `verified`). Para isso, você precisará classificar\n",
    "se estas avaliações são verificadas ou não, e no caso positivo,\n",
    "adicioná-los no sistema de recomendação.\n",
    "Adicionalmente, o CEO também deseja saber de possíveis\n",
    "associações e/ou correlações nesta base de dados que você vai\n",
    "trabalhar.\n",
    "\n",
    "Desta forma, eis o que você deve fazer neste projeto:\n",
    "- Carregar, limpar e fazer análises exploratórias no banco de\n",
    "dados fornecido;\n",
    "- Classificar a base sem informação para incluir as observações\n",
    "das avaliações verificadas no sistema de recomendação;\n",
    "- Desenvolver e entregar um sistema de recomendação, com\n",
    "exemplos de aplicação.\n",
    "OBS: O desenvolvimento e a decisão do modelo é totalmente\n",
    "sua, portanto se achar que deve utilizar um valor/\n",
    "procedimento diferente, sinta-se livre para fazer os testes e\n",
    "validar suas hipóteses para achar o resultado coerente."
   ]
  },
  {
   "cell_type": "markdown",
   "metadata": {},
   "source": [
    "# Importando as bibliotecas e carregando os dados"
   ]
  },
  {
   "cell_type": "code",
   "execution_count": 121,
   "metadata": {},
   "outputs": [],
   "source": [
    "## Importando as bibliotecas necessárias\n",
    "\n",
    "import pandas as pd\n",
    "import numpy as np\n",
    "import matplotlib.pyplot as plt\n",
    "import seaborn as sns\n",
    "from sklearn.cluster import KMeans\n",
    "from sklearn.preprocessing import MinMaxScaler\n",
    "from sklearn.model_selection import train_test_split\n",
    "from sklearn.linear_model import LogisticRegression\n",
    "from sklearn.ensemble import RandomForestClassifier\n",
    "from sklearn.svm import SVC\n",
    "from sklearn.ensemble import GradientBoostingClassifier\n",
    "from sklearn.metrics import precision_score, recall_score, accuracy_score, f1_score\n",
    "from sklearn.ensemble import RandomForestClassifier\n",
    "from sklearn.preprocessing import StandardScaler\n",
    "from sklearn.metrics.pairwise import cosine_similarity"
   ]
  },
  {
   "cell_type": "code",
   "execution_count": 2,
   "metadata": {},
   "outputs": [],
   "source": [
    "df_vg = pd.read_json(r'Video_Games_sample.json', lines=True)\n",
    "df_metavg = pd.read_json(r'meta_Video_Games.json', lines=True)"
   ]
  },
  {
   "cell_type": "code",
   "execution_count": 3,
   "metadata": {},
   "outputs": [
    {
     "name": "stdout",
     "output_type": "stream",
     "text": [
      " Dimensão do df_vg: (453562, 12)\n",
      " Dimensão do df_vg: (84819, 19)\n"
     ]
    }
   ],
   "source": [
    "print(f' Dimensão do df_vg: {df_vg.shape}')\n",
    "print(f' Dimensão do df_vg: {df_metavg.shape}')"
   ]
  },
  {
   "cell_type": "markdown",
   "metadata": {},
   "source": [
    "# EDA"
   ]
  },
  {
   "cell_type": "markdown",
   "metadata": {},
   "source": [
    "## Dataset df_vg"
   ]
  },
  {
   "cell_type": "code",
   "execution_count": 4,
   "metadata": {},
   "outputs": [
    {
     "data": {
      "text/html": [
       "<div>\n",
       "<style scoped>\n",
       "    .dataframe tbody tr th:only-of-type {\n",
       "        vertical-align: middle;\n",
       "    }\n",
       "\n",
       "    .dataframe tbody tr th {\n",
       "        vertical-align: top;\n",
       "    }\n",
       "\n",
       "    .dataframe thead th {\n",
       "        text-align: right;\n",
       "    }\n",
       "</style>\n",
       "<table border=\"1\" class=\"dataframe\">\n",
       "  <thead>\n",
       "    <tr style=\"text-align: right;\">\n",
       "      <th></th>\n",
       "      <th>overall</th>\n",
       "      <th>reviewTime</th>\n",
       "      <th>reviewerID</th>\n",
       "      <th>asin</th>\n",
       "      <th>style</th>\n",
       "      <th>reviewerName</th>\n",
       "      <th>reviewText</th>\n",
       "      <th>summary</th>\n",
       "      <th>unixReviewTime</th>\n",
       "      <th>verified</th>\n",
       "      <th>vote</th>\n",
       "      <th>image</th>\n",
       "    </tr>\n",
       "  </thead>\n",
       "  <tbody>\n",
       "    <tr>\n",
       "      <th>0</th>\n",
       "      <td>1</td>\n",
       "      <td>01 2, 2018</td>\n",
       "      <td>A16FEXIKAPT24U</td>\n",
       "      <td>B00000JRSB</td>\n",
       "      <td>{'Format:': ' Video Game'}</td>\n",
       "      <td>Nicholas Sabin</td>\n",
       "      <td>Game disc was cracked thats pretty lame</td>\n",
       "      <td>Game disc 1 was cracked</td>\n",
       "      <td>1514851200</td>\n",
       "      <td>NaN</td>\n",
       "      <td>NaN</td>\n",
       "      <td>NaN</td>\n",
       "    </tr>\n",
       "    <tr>\n",
       "      <th>1</th>\n",
       "      <td>5</td>\n",
       "      <td>01 2, 2018</td>\n",
       "      <td>A3ISBEPYLY8IMO</td>\n",
       "      <td>B00000JRSB</td>\n",
       "      <td>{'Format:': ' Video Game'}</td>\n",
       "      <td>Jimmy</td>\n",
       "      <td>Received this in perfect condition. Great rese...</td>\n",
       "      <td>Received this in perfect condition. Great rese...</td>\n",
       "      <td>1514851200</td>\n",
       "      <td>1.0</td>\n",
       "      <td>NaN</td>\n",
       "      <td>NaN</td>\n",
       "    </tr>\n",
       "  </tbody>\n",
       "</table>\n",
       "</div>"
      ],
      "text/plain": [
       "   overall  reviewTime      reviewerID        asin  \\\n",
       "0        1  01 2, 2018  A16FEXIKAPT24U  B00000JRSB   \n",
       "1        5  01 2, 2018  A3ISBEPYLY8IMO  B00000JRSB   \n",
       "\n",
       "                        style    reviewerName  \\\n",
       "0  {'Format:': ' Video Game'}  Nicholas Sabin   \n",
       "1  {'Format:': ' Video Game'}           Jimmy   \n",
       "\n",
       "                                          reviewText  \\\n",
       "0            Game disc was cracked thats pretty lame   \n",
       "1  Received this in perfect condition. Great rese...   \n",
       "\n",
       "                                             summary  unixReviewTime  \\\n",
       "0                            Game disc 1 was cracked      1514851200   \n",
       "1  Received this in perfect condition. Great rese...      1514851200   \n",
       "\n",
       "   verified vote image  \n",
       "0       NaN  NaN   NaN  \n",
       "1       1.0  NaN   NaN  "
      ]
     },
     "execution_count": 4,
     "metadata": {},
     "output_type": "execute_result"
    }
   ],
   "source": [
    "df_vg.head(2)"
   ]
  },
  {
   "cell_type": "code",
   "execution_count": 5,
   "metadata": {},
   "outputs": [
    {
     "name": "stdout",
     "output_type": "stream",
     "text": [
      "<class 'pandas.core.frame.DataFrame'>\n",
      "RangeIndex: 453562 entries, 0 to 453561\n",
      "Data columns (total 12 columns):\n",
      " #   Column          Non-Null Count   Dtype  \n",
      "---  ------          --------------   -----  \n",
      " 0   overall         453562 non-null  int64  \n",
      " 1   reviewTime      453562 non-null  object \n",
      " 2   reviewerID      453562 non-null  object \n",
      " 3   asin            453562 non-null  object \n",
      " 4   style           318160 non-null  object \n",
      " 5   reviewerName    453511 non-null  object \n",
      " 6   reviewText      453217 non-null  object \n",
      " 7   summary         453396 non-null  object \n",
      " 8   unixReviewTime  453562 non-null  int64  \n",
      " 9   verified        384546 non-null  float64\n",
      " 10  vote            57123 non-null   object \n",
      " 11  image           4651 non-null    object \n",
      "dtypes: float64(1), int64(2), object(9)\n",
      "memory usage: 41.5+ MB\n"
     ]
    }
   ],
   "source": [
    "df_vg.info()"
   ]
  },
  {
   "cell_type": "code",
   "execution_count": 6,
   "metadata": {},
   "outputs": [
    {
     "data": {
      "text/plain": [
       "overall            0.00%\n",
       "reviewTime         0.00%\n",
       "reviewerID         0.00%\n",
       "asin               0.00%\n",
       "style             29.85%\n",
       "reviewerName       0.01%\n",
       "reviewText         0.08%\n",
       "summary            0.04%\n",
       "unixReviewTime     0.00%\n",
       "verified          15.22%\n",
       "vote              87.41%\n",
       "image             98.97%\n",
       "dtype: object"
      ]
     },
     "execution_count": 6,
     "metadata": {},
     "output_type": "execute_result"
    }
   ],
   "source": [
    "## Verificando se há valores nulos no dataset\n",
    "\n",
    "(df_vg.isna().sum()/df_vg.shape[0]).map(\"{:.2%}\".format)"
   ]
  },
  {
   "cell_type": "markdown",
   "metadata": {},
   "source": [
    "As colunas vote e image possuem muitos nulos, vamos remove-las do dataset"
   ]
  },
  {
   "cell_type": "code",
   "execution_count": 7,
   "metadata": {},
   "outputs": [],
   "source": [
    "## Vamos dropar as colunas abaixo:\n",
    "\n",
    "df_vg.drop(columns=['image', 'vote'], inplace=True)"
   ]
  },
  {
   "cell_type": "markdown",
   "metadata": {},
   "source": [
    "Verificando a distribuição das notas"
   ]
  },
  {
   "cell_type": "code",
   "execution_count": 8,
   "metadata": {},
   "outputs": [
    {
     "data": {
      "image/png": "[encoded data removed]",
      "text/plain": [
       "<Figure size 432x288 with 1 Axes>"
      ]
     },
     "metadata": {
      "needs_background": "light"
     },
     "output_type": "display_data"
    }
   ],
   "source": [
    "plt.title('Distribuição das notas')\n",
    "df_vg['overall'].value_counts().plot(kind='bar')\n",
    "plt.show()"
   ]
  },
  {
   "cell_type": "code",
   "execution_count": 9,
   "metadata": {},
   "outputs": [
    {
     "data": {
      "image/png": "[encoded data removed]",
      "text/plain": [
       "<Figure size 1440x432 with 1 Axes>"
      ]
     },
     "metadata": {
      "needs_background": "light"
     },
     "output_type": "display_data"
    }
   ],
   "source": [
    "plt.figure(figsize=(20, 6))\n",
    "plt.title('Top 20 jogos')\n",
    "df_vg['asin'].value_counts()[:20].plot(kind='bar')\n",
    "plt.show()"
   ]
  },
  {
   "cell_type": "code",
   "execution_count": 10,
   "metadata": {},
   "outputs": [
    {
     "data": {
      "image/png": "[encoded data removed]",
      "text/plain": [
       "<Figure size 1440x432 with 1 Axes>"
      ]
     },
     "metadata": {
      "needs_background": "light"
     },
     "output_type": "display_data"
    }
   ],
   "source": [
    "plt.figure(figsize=(20, 6))\n",
    "plt.title('Top 20 usuários')\n",
    "df_vg['reviewerID'].value_counts()[:20].plot(kind='bar')\n",
    "plt.show()"
   ]
  },
  {
   "cell_type": "markdown",
   "metadata": {},
   "source": [
    "### Formantando a coluna Style"
   ]
  },
  {
   "cell_type": "code",
   "execution_count": 11,
   "metadata": {},
   "outputs": [],
   "source": [
    "style = pd.json_normalize(df_vg['style'])"
   ]
  },
  {
   "cell_type": "code",
   "execution_count": 12,
   "metadata": {},
   "outputs": [
    {
     "data": {
      "text/plain": [
       "Format:                 68.25%\n",
       "Color:                  85.16%\n",
       "Length:                 97.95%\n",
       "Subscription Length:    97.96%\n",
       "Content:                99.91%\n",
       "Size:                   96.10%\n",
       "Style:                  90.14%\n",
       "Package Quantity:       99.75%\n",
       "Edition:                88.98%\n",
       "Platform:               89.75%\n",
       "Package Type:           98.62%\n",
       "Configuration:          99.75%\n",
       "Pattern:                99.71%\n",
       "dtype: object"
      ]
     },
     "execution_count": 12,
     "metadata": {},
     "output_type": "execute_result"
    }
   ],
   "source": [
    "(style.isna().sum()/style.shape[0]).map(\"{:.2%}\".format)"
   ]
  },
  {
   "cell_type": "markdown",
   "metadata": {},
   "source": [
    "Como a maioria dos itens no dicionário da coluna style são nulos e não trazem informações relevantes, vamos remove-la"
   ]
  },
  {
   "cell_type": "code",
   "execution_count": 13,
   "metadata": {},
   "outputs": [],
   "source": [
    "df_vg.drop(columns='style',inplace=True)"
   ]
  },
  {
   "cell_type": "markdown",
   "metadata": {},
   "source": [
    "Verificando a quantidade 'verified' nulos para poder classifica-los conforme solicita o exercício."
   ]
  },
  {
   "cell_type": "code",
   "execution_count": 14,
   "metadata": {},
   "outputs": [
    {
     "data": {
      "text/plain": [
       "69016"
      ]
     },
     "execution_count": 14,
     "metadata": {},
     "output_type": "execute_result"
    }
   ],
   "source": [
    "df_vg['verified'].isnull().sum()"
   ]
  },
  {
   "cell_type": "code",
   "execution_count": 15,
   "metadata": {},
   "outputs": [
    {
     "data": {
      "text/plain": [
       "overall                5\n",
       "reviewTime          6066\n",
       "reviewerID        361288\n",
       "asin                 266\n",
       "reviewerName      245576\n",
       "reviewText        376697\n",
       "summary           228253\n",
       "unixReviewTime      6066\n",
       "verified               2\n",
       "dtype: int64"
      ]
     },
     "execution_count": 15,
     "metadata": {},
     "output_type": "execute_result"
    }
   ],
   "source": [
    "df_vg.nunique()"
   ]
  },
  {
   "cell_type": "code",
   "execution_count": 16,
   "metadata": {},
   "outputs": [
    {
     "data": {
      "text/plain": [
       "(453562, 9)"
      ]
     },
     "execution_count": 16,
     "metadata": {},
     "output_type": "execute_result"
    }
   ],
   "source": [
    "df_vg.shape"
   ]
  },
  {
   "cell_type": "markdown",
   "metadata": {},
   "source": [
    "## Dataset df_metavg"
   ]
  },
  {
   "cell_type": "code",
   "execution_count": 17,
   "metadata": {},
   "outputs": [
    {
     "data": {
      "text/html": [
       "<div>\n",
       "<style scoped>\n",
       "    .dataframe tbody tr th:only-of-type {\n",
       "        vertical-align: middle;\n",
       "    }\n",
       "\n",
       "    .dataframe tbody tr th {\n",
       "        vertical-align: top;\n",
       "    }\n",
       "\n",
       "    .dataframe thead th {\n",
       "        text-align: right;\n",
       "    }\n",
       "</style>\n",
       "<table border=\"1\" class=\"dataframe\">\n",
       "  <thead>\n",
       "    <tr style=\"text-align: right;\">\n",
       "      <th></th>\n",
       "      <th>category</th>\n",
       "      <th>tech1</th>\n",
       "      <th>description</th>\n",
       "      <th>fit</th>\n",
       "      <th>title</th>\n",
       "      <th>also_buy</th>\n",
       "      <th>tech2</th>\n",
       "      <th>brand</th>\n",
       "      <th>feature</th>\n",
       "      <th>rank</th>\n",
       "      <th>also_view</th>\n",
       "      <th>main_cat</th>\n",
       "      <th>similar_item</th>\n",
       "      <th>date</th>\n",
       "      <th>price</th>\n",
       "      <th>asin</th>\n",
       "      <th>imageURL</th>\n",
       "      <th>imageURLHighRes</th>\n",
       "      <th>details</th>\n",
       "    </tr>\n",
       "  </thead>\n",
       "  <tbody>\n",
       "    <tr>\n",
       "      <th>0</th>\n",
       "      <td>[Video Games, PC, Games]</td>\n",
       "      <td></td>\n",
       "      <td>[]</td>\n",
       "      <td></td>\n",
       "      <td>Reversi Sensory Challenger</td>\n",
       "      <td>[]</td>\n",
       "      <td></td>\n",
       "      <td>Fidelity Electronics</td>\n",
       "      <td>[]</td>\n",
       "      <td>[&gt;#2,623,937 in Toys &amp;amp; Games (See Top 100 ...</td>\n",
       "      <td>[]</td>\n",
       "      <td>Toys &amp;amp; Games</td>\n",
       "      <td></td>\n",
       "      <td></td>\n",
       "      <td></td>\n",
       "      <td>0042000742</td>\n",
       "      <td>[https://images-na.ssl-images-amazon.com/image...</td>\n",
       "      <td>[https://images-na.ssl-images-amazon.com/image...</td>\n",
       "      <td>NaN</td>\n",
       "    </tr>\n",
       "    <tr>\n",
       "      <th>1</th>\n",
       "      <td>[Video Games, Xbox 360, Games, &lt;/span&gt;&lt;/span&gt;&lt;...</td>\n",
       "      <td></td>\n",
       "      <td>[Brand new sealed!]</td>\n",
       "      <td></td>\n",
       "      <td>Medal of Honor: Warfighter - Includes Battlefi...</td>\n",
       "      <td>[B00PADROYW]</td>\n",
       "      <td></td>\n",
       "      <td>by\\n    \\n    EA Games</td>\n",
       "      <td>[]</td>\n",
       "      <td>[&gt;#67,231 in Video Games (See Top 100 in Video...</td>\n",
       "      <td>[B0050SY5BM, B072NQJCW5, B000TI836G, B002SRSQ7...</td>\n",
       "      <td>Video Games</td>\n",
       "      <td></td>\n",
       "      <td></td>\n",
       "      <td>\\n\\t\\t\\t\\t\\t\\t\\t\\t\\t\\t\\t\\t&lt;span class=\"vertica...</td>\n",
       "      <td>0078764343</td>\n",
       "      <td>[https://images-na.ssl-images-amazon.com/image...</td>\n",
       "      <td>[https://images-na.ssl-images-amazon.com/image...</td>\n",
       "      <td>NaN</td>\n",
       "    </tr>\n",
       "  </tbody>\n",
       "</table>\n",
       "</div>"
      ],
      "text/plain": [
       "                                            category tech1  \\\n",
       "0                           [Video Games, PC, Games]         \n",
       "1  [Video Games, Xbox 360, Games, </span></span><...         \n",
       "\n",
       "           description fit                                              title  \\\n",
       "0                   []                             Reversi Sensory Challenger   \n",
       "1  [Brand new sealed!]      Medal of Honor: Warfighter - Includes Battlefi...   \n",
       "\n",
       "       also_buy tech2                   brand feature  \\\n",
       "0            []          Fidelity Electronics      []   \n",
       "1  [B00PADROYW]        by\\n    \\n    EA Games      []   \n",
       "\n",
       "                                                rank  \\\n",
       "0  [>#2,623,937 in Toys &amp; Games (See Top 100 ...   \n",
       "1  [>#67,231 in Video Games (See Top 100 in Video...   \n",
       "\n",
       "                                           also_view          main_cat  \\\n",
       "0                                                 []  Toys &amp; Games   \n",
       "1  [B0050SY5BM, B072NQJCW5, B000TI836G, B002SRSQ7...       Video Games   \n",
       "\n",
       "  similar_item date                                              price  \\\n",
       "0                                                                        \n",
       "1                    \\n\\t\\t\\t\\t\\t\\t\\t\\t\\t\\t\\t\\t<span class=\"vertica...   \n",
       "\n",
       "         asin                                           imageURL  \\\n",
       "0  0042000742  [https://images-na.ssl-images-amazon.com/image...   \n",
       "1  0078764343  [https://images-na.ssl-images-amazon.com/image...   \n",
       "\n",
       "                                     imageURLHighRes details  \n",
       "0  [https://images-na.ssl-images-amazon.com/image...     NaN  \n",
       "1  [https://images-na.ssl-images-amazon.com/image...     NaN  "
      ]
     },
     "execution_count": 17,
     "metadata": {},
     "output_type": "execute_result"
    }
   ],
   "source": [
    "df_metavg.head(2)"
   ]
  },
  {
   "cell_type": "code",
   "execution_count": 18,
   "metadata": {},
   "outputs": [
    {
     "name": "stdout",
     "output_type": "stream",
     "text": [
      "<class 'pandas.core.frame.DataFrame'>\n",
      "RangeIndex: 84819 entries, 0 to 84818\n",
      "Data columns (total 19 columns):\n",
      " #   Column           Non-Null Count  Dtype \n",
      "---  ------           --------------  ----- \n",
      " 0   category         84819 non-null  object\n",
      " 1   tech1            84819 non-null  object\n",
      " 2   description      84819 non-null  object\n",
      " 3   fit              84819 non-null  object\n",
      " 4   title            84819 non-null  object\n",
      " 5   also_buy         84819 non-null  object\n",
      " 6   tech2            84819 non-null  object\n",
      " 7   brand            84819 non-null  object\n",
      " 8   feature          84819 non-null  object\n",
      " 9   rank             84819 non-null  object\n",
      " 10  also_view        84819 non-null  object\n",
      " 11  main_cat         84819 non-null  object\n",
      " 12  similar_item     84819 non-null  object\n",
      " 13  date             84819 non-null  object\n",
      " 14  price            84819 non-null  object\n",
      " 15  asin             84819 non-null  object\n",
      " 16  imageURL         84819 non-null  object\n",
      " 17  imageURLHighRes  84819 non-null  object\n",
      " 18  details          84712 non-null  object\n",
      "dtypes: object(19)\n",
      "memory usage: 12.3+ MB\n"
     ]
    }
   ],
   "source": [
    "df_metavg.info()"
   ]
  },
  {
   "cell_type": "markdown",
   "metadata": {},
   "source": [
    "Temos algumas colunas bem desorganizadas e que não vão agregar em nosso dataset por isso vamos remover:\n",
    "\n",
    "category: já temos uma coluna 'main_cat', não precisamos dela.\n",
    "\n",
    "tech1: está vazia\n",
    "\n",
    "description: não será necessária\n",
    "\n",
    "fit: está vazia\n",
    "\n",
    "tech2: está vazia\n",
    "\n",
    "feature: não será necessária\n",
    "\n",
    "rank: não será necessária\n",
    "\n",
    "similar_item: vazia\n",
    "\n",
    "date: não será necessária\n",
    "\n",
    "price: não será necessária\n",
    "\n",
    "imageURL: não será necessária\n",
    "\n",
    "imageURLHighRes: não será necessária\n",
    "\n",
    "details: não será necessária"
   ]
  },
  {
   "cell_type": "code",
   "execution_count": 19,
   "metadata": {},
   "outputs": [],
   "source": [
    "## Vamos dropar algumas colunas que não vão ser úteis.\n",
    "\n",
    "df_metavg.drop(columns=['category', 'tech1', 'description', 'fit', 'tech2', 'feature', 'rank', 'similar_item','imageURL',\n",
    " 'date', 'price','imageURLHighRes', 'details'], inplace=True)"
   ]
  },
  {
   "cell_type": "code",
   "execution_count": 20,
   "metadata": {},
   "outputs": [
    {
     "data": {
      "text/plain": [
       "(84819, 6)"
      ]
     },
     "execution_count": 20,
     "metadata": {},
     "output_type": "execute_result"
    }
   ],
   "source": [
    "df_metavg.shape"
   ]
  },
  {
   "cell_type": "code",
   "execution_count": 21,
   "metadata": {},
   "outputs": [
    {
     "data": {
      "text/plain": [
       "False    71911\n",
       "True     12908\n",
       "Name: asin, dtype: int64"
      ]
     },
     "execution_count": 21,
     "metadata": {},
     "output_type": "execute_result"
    }
   ],
   "source": [
    "df_metavg.asin.duplicated().value_counts()"
   ]
  },
  {
   "cell_type": "markdown",
   "metadata": {},
   "source": [
    "Existem valores duplicados, portanto vamos remover."
   ]
  },
  {
   "cell_type": "code",
   "execution_count": 22,
   "metadata": {},
   "outputs": [],
   "source": [
    "df_metavg = df_metavg.drop_duplicates(subset='asin', keep='first')"
   ]
  },
  {
   "cell_type": "markdown",
   "metadata": {},
   "source": [
    "Para reduzir nosso dataset de produto, vamos deixar somente os produtos que os clientes avaliaram"
   ]
  },
  {
   "cell_type": "code",
   "execution_count": 23,
   "metadata": {},
   "outputs": [],
   "source": [
    "vg_vlaues = df_vg['asin'].values"
   ]
  },
  {
   "cell_type": "code",
   "execution_count": 24,
   "metadata": {},
   "outputs": [],
   "source": [
    "df_metavg = df_metavg[df_metavg['asin'].isin(vg_vlaues)]"
   ]
  },
  {
   "cell_type": "code",
   "execution_count": 25,
   "metadata": {},
   "outputs": [
    {
     "data": {
      "text/plain": [
       "(266, 6)"
      ]
     },
     "execution_count": 25,
     "metadata": {},
     "output_type": "execute_result"
    }
   ],
   "source": [
    "df_metavg.shape"
   ]
  },
  {
   "cell_type": "code",
   "execution_count": 26,
   "metadata": {},
   "outputs": [
    {
     "data": {
      "text/plain": [
       "Video Games          198\n",
       "Computers             52\n",
       "All Electronics       14\n",
       "Sports & Outdoors      1\n",
       "Amazon Home            1\n",
       "Name: main_cat, dtype: int64"
      ]
     },
     "execution_count": 26,
     "metadata": {},
     "output_type": "execute_result"
    }
   ],
   "source": [
    "df_metavg.main_cat.value_counts()"
   ]
  },
  {
   "cell_type": "markdown",
   "metadata": {},
   "source": [
    "Arrumando a coluna de brand"
   ]
  },
  {
   "cell_type": "code",
   "execution_count": 27,
   "metadata": {},
   "outputs": [],
   "source": [
    "df_metavg['brand'] = df_metavg['brand'].str.replace('\\n',\"\")"
   ]
  },
  {
   "cell_type": "code",
   "execution_count": 28,
   "metadata": {},
   "outputs": [],
   "source": [
    "df_metavg['brand'] = df_metavg['brand'].str.replace('by ',\"\")"
   ]
  },
  {
   "cell_type": "code",
   "execution_count": 29,
   "metadata": {},
   "outputs": [
    {
     "data": {
      "text/html": [
       "<div>\n",
       "<style scoped>\n",
       "    .dataframe tbody tr th:only-of-type {\n",
       "        vertical-align: middle;\n",
       "    }\n",
       "\n",
       "    .dataframe tbody tr th {\n",
       "        vertical-align: top;\n",
       "    }\n",
       "\n",
       "    .dataframe thead th {\n",
       "        text-align: right;\n",
       "    }\n",
       "</style>\n",
       "<table border=\"1\" class=\"dataframe\">\n",
       "  <thead>\n",
       "    <tr style=\"text-align: right;\">\n",
       "      <th></th>\n",
       "      <th>title</th>\n",
       "      <th>also_buy</th>\n",
       "      <th>brand</th>\n",
       "      <th>also_view</th>\n",
       "      <th>main_cat</th>\n",
       "      <th>asin</th>\n",
       "    </tr>\n",
       "  </thead>\n",
       "  <tbody>\n",
       "    <tr>\n",
       "      <th>399</th>\n",
       "      <td>Final Fantasy VII</td>\n",
       "      <td>[B0000296O5, B00004Y57G, B00002R28C, B0045L3SN...</td>\n",
       "      <td>SquareSoft</td>\n",
       "      <td>[B00004Y57G, B00004TC6E, B00ZS80PC2, B0000296O...</td>\n",
       "      <td>Video Games</td>\n",
       "      <td>B00000JRSB</td>\n",
       "    </tr>\n",
       "    <tr>\n",
       "      <th>6758</th>\n",
       "      <td>Halo - Xbox</td>\n",
       "      <td>[B00008J7NZ, B00006IR20, B000FRU0NU, B00005RHQ...</td>\n",
       "      <td>Microsoft</td>\n",
       "      <td>[B0050SYY5E, B000FRU0NU, B00008J7NZ, B00006IR2...</td>\n",
       "      <td>Video Games</td>\n",
       "      <td>B00005NZ1G</td>\n",
       "    </tr>\n",
       "    <tr>\n",
       "      <th>6779</th>\n",
       "      <td>Grand Theft Auto III</td>\n",
       "      <td>[B0000696CZ, B0001VGFK2, B01L1P49OA, B00006BXB...</td>\n",
       "      <td>Sony</td>\n",
       "      <td>[B0000696CZ, B0001VGFK2, B00006BXBV, B000KCX9M...</td>\n",
       "      <td>Video Games</td>\n",
       "      <td>B00005O0I2</td>\n",
       "    </tr>\n",
       "    <tr>\n",
       "      <th>6975</th>\n",
       "      <td>Super Smash Bros Melee</td>\n",
       "      <td>[B00009WAUD, B00006IJJI, B00005QEFF, B01LWA474...</td>\n",
       "      <td>Nintendo</td>\n",
       "      <td>[B000094G2O, B00008KTX5, B00009WAUD, B0009XBYZ...</td>\n",
       "      <td>Video Games</td>\n",
       "      <td>B00005Q8M0</td>\n",
       "    </tr>\n",
       "    <tr>\n",
       "      <th>7244</th>\n",
       "      <td>Final Fantasy X</td>\n",
       "      <td>[B00008URUA, B000F5IH2I, B000066TS5, B0009A4EV...</td>\n",
       "      <td>SquareSoft</td>\n",
       "      <td>[B000066TS5, B000F5IH2I, B00008URUA, B00QU47SJ...</td>\n",
       "      <td>Video Games</td>\n",
       "      <td>B00005TNI6</td>\n",
       "    </tr>\n",
       "    <tr>\n",
       "      <th>...</th>\n",
       "      <td>...</td>\n",
       "      <td>...</td>\n",
       "      <td>...</td>\n",
       "      <td>...</td>\n",
       "      <td>...</td>\n",
       "      <td>...</td>\n",
       "    </tr>\n",
       "    <tr>\n",
       "      <th>84373</th>\n",
       "      <td>The Elder Scrolls V: Skyrim Special Edition - ...</td>\n",
       "      <td>[B004RMK4BC, B004RMK4P8, B06XCTDL52, B00GAC1D2...</td>\n",
       "      <td>Bethesda</td>\n",
       "      <td>[B01J23D1W4, B01H0TJM70, B07L9NVPTY, B07BZZX97...</td>\n",
       "      <td>Video Games</td>\n",
       "      <td>B01GW3ODBU</td>\n",
       "    </tr>\n",
       "    <tr>\n",
       "      <th>84386</th>\n",
       "      <td>God of War 4 - PS4 [Digital Code]</td>\n",
       "      <td>[B01H0TJM70, B07G9WK8GS, B072LXFN8X, B07DLTC77...</td>\n",
       "      <td>SCEA</td>\n",
       "      <td>[B01H0TJM70, B01GW3PMGK, B072LXFN8X, B07G9WK8G...</td>\n",
       "      <td>Video Games</td>\n",
       "      <td>B01GW3P9PE</td>\n",
       "    </tr>\n",
       "    <tr>\n",
       "      <th>84506</th>\n",
       "      <td>PS4 Controller Charger, Y Team Playstation 4 /...</td>\n",
       "      <td>[B01LWVX2RG, B07GQ61M42, B0799976M1, B07FQ74V4...</td>\n",
       "      <td>Y Team</td>\n",
       "      <td>[]</td>\n",
       "      <td>All Electronics</td>\n",
       "      <td>B01H1GJ7IQ</td>\n",
       "    </tr>\n",
       "    <tr>\n",
       "      <th>84561</th>\n",
       "      <td>Nintendo Pokemon Go Plus</td>\n",
       "      <td>[B07C7K7JGW, B07HNC7JB9, B07C75329M, B07C7L9D9...</td>\n",
       "      <td>Nintendo</td>\n",
       "      <td>[B071K63M65, B06Y5BTX8L, B071R3P45V, B07C1MCH3...</td>\n",
       "      <td>Video Games</td>\n",
       "      <td>B01H482N6E</td>\n",
       "    </tr>\n",
       "    <tr>\n",
       "      <th>84610</th>\n",
       "      <td>BENGOO G9000 Stereo Gaming Headset for PS4, PC...</td>\n",
       "      <td>[]</td>\n",
       "      <td>BENGOO</td>\n",
       "      <td>[B076DWKD5B, B01MA5XZSG, B078RJGK35, B012DFI02...</td>\n",
       "      <td>Computers</td>\n",
       "      <td>B01H6GUCCQ</td>\n",
       "    </tr>\n",
       "  </tbody>\n",
       "</table>\n",
       "<p>266 rows × 6 columns</p>\n",
       "</div>"
      ],
      "text/plain": [
       "                                                   title  \\\n",
       "399                                    Final Fantasy VII   \n",
       "6758                                         Halo - Xbox   \n",
       "6779                                Grand Theft Auto III   \n",
       "6975                              Super Smash Bros Melee   \n",
       "7244                                     Final Fantasy X   \n",
       "...                                                  ...   \n",
       "84373  The Elder Scrolls V: Skyrim Special Edition - ...   \n",
       "84386                  God of War 4 - PS4 [Digital Code]   \n",
       "84506  PS4 Controller Charger, Y Team Playstation 4 /...   \n",
       "84561                           Nintendo Pokemon Go Plus   \n",
       "84610  BENGOO G9000 Stereo Gaming Headset for PS4, PC...   \n",
       "\n",
       "                                                also_buy              brand  \\\n",
       "399    [B0000296O5, B00004Y57G, B00002R28C, B0045L3SN...         SquareSoft   \n",
       "6758   [B00008J7NZ, B00006IR20, B000FRU0NU, B00005RHQ...          Microsoft   \n",
       "6779   [B0000696CZ, B0001VGFK2, B01L1P49OA, B00006BXB...               Sony   \n",
       "6975   [B00009WAUD, B00006IJJI, B00005QEFF, B01LWA474...           Nintendo   \n",
       "7244   [B00008URUA, B000F5IH2I, B000066TS5, B0009A4EV...         SquareSoft   \n",
       "...                                                  ...                ...   \n",
       "84373  [B004RMK4BC, B004RMK4P8, B06XCTDL52, B00GAC1D2...           Bethesda   \n",
       "84386  [B01H0TJM70, B07G9WK8GS, B072LXFN8X, B07DLTC77...               SCEA   \n",
       "84506  [B01LWVX2RG, B07GQ61M42, B0799976M1, B07FQ74V4...             Y Team   \n",
       "84561  [B07C7K7JGW, B07HNC7JB9, B07C75329M, B07C7L9D9...           Nintendo   \n",
       "84610                                                 []             BENGOO   \n",
       "\n",
       "                                               also_view         main_cat  \\\n",
       "399    [B00004Y57G, B00004TC6E, B00ZS80PC2, B0000296O...      Video Games   \n",
       "6758   [B0050SYY5E, B000FRU0NU, B00008J7NZ, B00006IR2...      Video Games   \n",
       "6779   [B0000696CZ, B0001VGFK2, B00006BXBV, B000KCX9M...      Video Games   \n",
       "6975   [B000094G2O, B00008KTX5, B00009WAUD, B0009XBYZ...      Video Games   \n",
       "7244   [B000066TS5, B000F5IH2I, B00008URUA, B00QU47SJ...      Video Games   \n",
       "...                                                  ...              ...   \n",
       "84373  [B01J23D1W4, B01H0TJM70, B07L9NVPTY, B07BZZX97...      Video Games   \n",
       "84386  [B01H0TJM70, B01GW3PMGK, B072LXFN8X, B07G9WK8G...      Video Games   \n",
       "84506                                                 []  All Electronics   \n",
       "84561  [B071K63M65, B06Y5BTX8L, B071R3P45V, B07C1MCH3...      Video Games   \n",
       "84610  [B076DWKD5B, B01MA5XZSG, B078RJGK35, B012DFI02...        Computers   \n",
       "\n",
       "             asin  \n",
       "399    B00000JRSB  \n",
       "6758   B00005NZ1G  \n",
       "6779   B00005O0I2  \n",
       "6975   B00005Q8M0  \n",
       "7244   B00005TNI6  \n",
       "...           ...  \n",
       "84373  B01GW3ODBU  \n",
       "84386  B01GW3P9PE  \n",
       "84506  B01H1GJ7IQ  \n",
       "84561  B01H482N6E  \n",
       "84610  B01H6GUCCQ  \n",
       "\n",
       "[266 rows x 6 columns]"
      ]
     },
     "execution_count": 29,
     "metadata": {},
     "output_type": "execute_result"
    }
   ],
   "source": [
    "df_metavg"
   ]
  },
  {
   "cell_type": "markdown",
   "metadata": {},
   "source": [
    "# Juntando os dois datasets"
   ]
  },
  {
   "cell_type": "code",
   "execution_count": 30,
   "metadata": {},
   "outputs": [],
   "source": [
    "df_final = df_vg.merge(df_metavg, how='inner', on='asin')"
   ]
  },
  {
   "cell_type": "code",
   "execution_count": 31,
   "metadata": {},
   "outputs": [],
   "source": [
    "df_final.drop(columns='reviewTime', inplace=True)"
   ]
  },
  {
   "cell_type": "code",
   "execution_count": 32,
   "metadata": {},
   "outputs": [
    {
     "data": {
      "text/html": [
       "<div>\n",
       "<style scoped>\n",
       "    .dataframe tbody tr th:only-of-type {\n",
       "        vertical-align: middle;\n",
       "    }\n",
       "\n",
       "    .dataframe tbody tr th {\n",
       "        vertical-align: top;\n",
       "    }\n",
       "\n",
       "    .dataframe thead th {\n",
       "        text-align: right;\n",
       "    }\n",
       "</style>\n",
       "<table border=\"1\" class=\"dataframe\">\n",
       "  <thead>\n",
       "    <tr style=\"text-align: right;\">\n",
       "      <th></th>\n",
       "      <th>overall</th>\n",
       "      <th>reviewerID</th>\n",
       "      <th>asin</th>\n",
       "      <th>reviewerName</th>\n",
       "      <th>reviewText</th>\n",
       "      <th>summary</th>\n",
       "      <th>unixReviewTime</th>\n",
       "      <th>verified</th>\n",
       "      <th>title</th>\n",
       "      <th>also_buy</th>\n",
       "      <th>brand</th>\n",
       "      <th>also_view</th>\n",
       "      <th>main_cat</th>\n",
       "    </tr>\n",
       "  </thead>\n",
       "  <tbody>\n",
       "    <tr>\n",
       "      <th>0</th>\n",
       "      <td>1</td>\n",
       "      <td>A16FEXIKAPT24U</td>\n",
       "      <td>B00000JRSB</td>\n",
       "      <td>Nicholas Sabin</td>\n",
       "      <td>Game disc was cracked thats pretty lame</td>\n",
       "      <td>Game disc 1 was cracked</td>\n",
       "      <td>1514851200</td>\n",
       "      <td>NaN</td>\n",
       "      <td>Final Fantasy VII</td>\n",
       "      <td>[B0000296O5, B00004Y57G, B00002R28C, B0045L3SN...</td>\n",
       "      <td>SquareSoft</td>\n",
       "      <td>[B00004Y57G, B00004TC6E, B00ZS80PC2, B0000296O...</td>\n",
       "      <td>Video Games</td>\n",
       "    </tr>\n",
       "    <tr>\n",
       "      <th>1</th>\n",
       "      <td>5</td>\n",
       "      <td>A3ISBEPYLY8IMO</td>\n",
       "      <td>B00000JRSB</td>\n",
       "      <td>Jimmy</td>\n",
       "      <td>Received this in perfect condition. Great rese...</td>\n",
       "      <td>Received this in perfect condition. Great rese...</td>\n",
       "      <td>1514851200</td>\n",
       "      <td>1.0</td>\n",
       "      <td>Final Fantasy VII</td>\n",
       "      <td>[B0000296O5, B00004Y57G, B00002R28C, B0045L3SN...</td>\n",
       "      <td>SquareSoft</td>\n",
       "      <td>[B00004Y57G, B00004TC6E, B00ZS80PC2, B0000296O...</td>\n",
       "      <td>Video Games</td>\n",
       "    </tr>\n",
       "  </tbody>\n",
       "</table>\n",
       "</div>"
      ],
      "text/plain": [
       "   overall      reviewerID        asin    reviewerName  \\\n",
       "0        1  A16FEXIKAPT24U  B00000JRSB  Nicholas Sabin   \n",
       "1        5  A3ISBEPYLY8IMO  B00000JRSB           Jimmy   \n",
       "\n",
       "                                          reviewText  \\\n",
       "0            Game disc was cracked thats pretty lame   \n",
       "1  Received this in perfect condition. Great rese...   \n",
       "\n",
       "                                             summary  unixReviewTime  \\\n",
       "0                            Game disc 1 was cracked      1514851200   \n",
       "1  Received this in perfect condition. Great rese...      1514851200   \n",
       "\n",
       "   verified              title  \\\n",
       "0       NaN  Final Fantasy VII   \n",
       "1       1.0  Final Fantasy VII   \n",
       "\n",
       "                                            also_buy       brand  \\\n",
       "0  [B0000296O5, B00004Y57G, B00002R28C, B0045L3SN...  SquareSoft   \n",
       "1  [B0000296O5, B00004Y57G, B00002R28C, B0045L3SN...  SquareSoft   \n",
       "\n",
       "                                           also_view     main_cat  \n",
       "0  [B00004Y57G, B00004TC6E, B00ZS80PC2, B0000296O...  Video Games  \n",
       "1  [B00004Y57G, B00004TC6E, B00ZS80PC2, B0000296O...  Video Games  "
      ]
     },
     "execution_count": 32,
     "metadata": {},
     "output_type": "execute_result"
    }
   ],
   "source": [
    "df_final.head(2)"
   ]
  },
  {
   "cell_type": "markdown",
   "metadata": {},
   "source": [
    "# CLASSIFICAÇÃO"
   ]
  },
  {
   "cell_type": "markdown",
   "metadata": {},
   "source": [
    "Vamos montar de um modelo de classificação para prever a coluna 'verified'"
   ]
  },
  {
   "cell_type": "code",
   "execution_count": 33,
   "metadata": {},
   "outputs": [],
   "source": [
    "# Cópia do dataset para classificação\n",
    "df_clf = df_final.copy()\n",
    "\n",
    "# Cópia do dataset para valores nulos em verified\n",
    "df_clf_null = df_clf[df_clf['verified'].isnull()]\n",
    "\n",
    "# Cópia do dataset para valores sem os nulos em verified\n",
    "df_clf_model = df_clf.dropna(subset=['verified'])"
   ]
  },
  {
   "cell_type": "markdown",
   "metadata": {},
   "source": [
    "Dropando as colunas que não serão usadas para faer o modelo"
   ]
  },
  {
   "cell_type": "code",
   "execution_count": 34,
   "metadata": {},
   "outputs": [
    {
     "name": "stderr",
     "output_type": "stream",
     "text": [
      "c:\\Users\\Public\\Anaconda\\lib\\site-packages\\pandas\\core\\frame.py:4906: SettingWithCopyWarning: \n",
      "A value is trying to be set on a copy of a slice from a DataFrame\n",
      "\n",
      "See the caveats in the documentation: https://pandas.pydata.org/pandas-docs/stable/user_guide/indexing.html#returning-a-view-versus-a-copy\n",
      "  return super().drop(\n"
     ]
    }
   ],
   "source": [
    "df_clf_model.drop(columns=['reviewerName', 'reviewText', 'summary', 'title', 'also_buy', 'brand', 'also_view'], inplace=True)"
   ]
  },
  {
   "cell_type": "markdown",
   "metadata": {},
   "source": [
    "Dummificando nossa coluna de categoria"
   ]
  },
  {
   "cell_type": "code",
   "execution_count": 35,
   "metadata": {},
   "outputs": [],
   "source": [
    "df_clf_model = pd.get_dummies(df_clf_model, columns=['main_cat'])"
   ]
  },
  {
   "cell_type": "code",
   "execution_count": 36,
   "metadata": {},
   "outputs": [
    {
     "data": {
      "text/html": [
       "<div>\n",
       "<style scoped>\n",
       "    .dataframe tbody tr th:only-of-type {\n",
       "        vertical-align: middle;\n",
       "    }\n",
       "\n",
       "    .dataframe tbody tr th {\n",
       "        vertical-align: top;\n",
       "    }\n",
       "\n",
       "    .dataframe thead th {\n",
       "        text-align: right;\n",
       "    }\n",
       "</style>\n",
       "<table border=\"1\" class=\"dataframe\">\n",
       "  <thead>\n",
       "    <tr style=\"text-align: right;\">\n",
       "      <th></th>\n",
       "      <th>overall</th>\n",
       "      <th>reviewerID</th>\n",
       "      <th>asin</th>\n",
       "      <th>unixReviewTime</th>\n",
       "      <th>verified</th>\n",
       "      <th>main_cat_All Electronics</th>\n",
       "      <th>main_cat_Amazon Home</th>\n",
       "      <th>main_cat_Computers</th>\n",
       "      <th>main_cat_Sports &amp; Outdoors</th>\n",
       "      <th>main_cat_Video Games</th>\n",
       "    </tr>\n",
       "  </thead>\n",
       "  <tbody>\n",
       "    <tr>\n",
       "      <th>1</th>\n",
       "      <td>5</td>\n",
       "      <td>A3ISBEPYLY8IMO</td>\n",
       "      <td>B00000JRSB</td>\n",
       "      <td>1514851200</td>\n",
       "      <td>1.0</td>\n",
       "      <td>0</td>\n",
       "      <td>0</td>\n",
       "      <td>0</td>\n",
       "      <td>0</td>\n",
       "      <td>1</td>\n",
       "    </tr>\n",
       "  </tbody>\n",
       "</table>\n",
       "</div>"
      ],
      "text/plain": [
       "   overall      reviewerID        asin  unixReviewTime  verified  \\\n",
       "1        5  A3ISBEPYLY8IMO  B00000JRSB      1514851200       1.0   \n",
       "\n",
       "   main_cat_All Electronics  main_cat_Amazon Home  main_cat_Computers  \\\n",
       "1                         0                     0                   0   \n",
       "\n",
       "   main_cat_Sports & Outdoors  main_cat_Video Games  \n",
       "1                           0                     1  "
      ]
     },
     "execution_count": 36,
     "metadata": {},
     "output_type": "execute_result"
    }
   ],
   "source": [
    "df_clf_model.head(1)"
   ]
  },
  {
   "cell_type": "code",
   "execution_count": 37,
   "metadata": {},
   "outputs": [
    {
     "data": {
      "text/plain": [
       "array(['Video Games', 'All Electronics', 'Computers', 'Sports & Outdoors',\n",
       "       'Amazon Home'], dtype=object)"
      ]
     },
     "execution_count": 37,
     "metadata": {},
     "output_type": "execute_result"
    }
   ],
   "source": [
    "df_clf['main_cat'].unique()"
   ]
  },
  {
   "cell_type": "code",
   "execution_count": 38,
   "metadata": {},
   "outputs": [],
   "source": [
    "column_names = {\n",
    "                'main_cat_All Electronics' : 'all_eletronics',\n",
    "                'main_cat_Amazon Home' : 'amazon_home',\n",
    "                'main_cat_Computers' : 'computers',\n",
    "                'main_cat_Sports & Outdoors' : 'sports_outdoors',\n",
    "                'main_cat_Video Games' : 'video_games' \n",
    "                }"
   ]
  },
  {
   "cell_type": "code",
   "execution_count": 39,
   "metadata": {},
   "outputs": [],
   "source": [
    "df_clf_model.rename(column_names, axis=1, inplace=True)"
   ]
  },
  {
   "cell_type": "code",
   "execution_count": 40,
   "metadata": {},
   "outputs": [
    {
     "data": {
      "text/html": [
       "<div>\n",
       "<style scoped>\n",
       "    .dataframe tbody tr th:only-of-type {\n",
       "        vertical-align: middle;\n",
       "    }\n",
       "\n",
       "    .dataframe tbody tr th {\n",
       "        vertical-align: top;\n",
       "    }\n",
       "\n",
       "    .dataframe thead th {\n",
       "        text-align: right;\n",
       "    }\n",
       "</style>\n",
       "<table border=\"1\" class=\"dataframe\">\n",
       "  <thead>\n",
       "    <tr style=\"text-align: right;\">\n",
       "      <th></th>\n",
       "      <th>overall</th>\n",
       "      <th>reviewerID</th>\n",
       "      <th>asin</th>\n",
       "      <th>unixReviewTime</th>\n",
       "      <th>verified</th>\n",
       "      <th>all_eletronics</th>\n",
       "      <th>amazon_home</th>\n",
       "      <th>computers</th>\n",
       "      <th>sports_outdoors</th>\n",
       "      <th>video_games</th>\n",
       "    </tr>\n",
       "  </thead>\n",
       "  <tbody>\n",
       "    <tr>\n",
       "      <th>1</th>\n",
       "      <td>5</td>\n",
       "      <td>A3ISBEPYLY8IMO</td>\n",
       "      <td>B00000JRSB</td>\n",
       "      <td>1514851200</td>\n",
       "      <td>1.0</td>\n",
       "      <td>0</td>\n",
       "      <td>0</td>\n",
       "      <td>0</td>\n",
       "      <td>0</td>\n",
       "      <td>1</td>\n",
       "    </tr>\n",
       "    <tr>\n",
       "      <th>2</th>\n",
       "      <td>5</td>\n",
       "      <td>A1RIUB1PZWLOVZ</td>\n",
       "      <td>B00000JRSB</td>\n",
       "      <td>1513814400</td>\n",
       "      <td>1.0</td>\n",
       "      <td>0</td>\n",
       "      <td>0</td>\n",
       "      <td>0</td>\n",
       "      <td>0</td>\n",
       "      <td>1</td>\n",
       "    </tr>\n",
       "    <tr>\n",
       "      <th>3</th>\n",
       "      <td>5</td>\n",
       "      <td>A2VY0K54SOCG0F</td>\n",
       "      <td>B00000JRSB</td>\n",
       "      <td>1513728000</td>\n",
       "      <td>0.0</td>\n",
       "      <td>0</td>\n",
       "      <td>0</td>\n",
       "      <td>0</td>\n",
       "      <td>0</td>\n",
       "      <td>1</td>\n",
       "    </tr>\n",
       "    <tr>\n",
       "      <th>4</th>\n",
       "      <td>5</td>\n",
       "      <td>A1ABJQ2REV14OQ</td>\n",
       "      <td>B00000JRSB</td>\n",
       "      <td>1513641600</td>\n",
       "      <td>1.0</td>\n",
       "      <td>0</td>\n",
       "      <td>0</td>\n",
       "      <td>0</td>\n",
       "      <td>0</td>\n",
       "      <td>1</td>\n",
       "    </tr>\n",
       "    <tr>\n",
       "      <th>5</th>\n",
       "      <td>5</td>\n",
       "      <td>A368DF2G0T502X</td>\n",
       "      <td>B00000JRSB</td>\n",
       "      <td>1512777600</td>\n",
       "      <td>1.0</td>\n",
       "      <td>0</td>\n",
       "      <td>0</td>\n",
       "      <td>0</td>\n",
       "      <td>0</td>\n",
       "      <td>1</td>\n",
       "    </tr>\n",
       "    <tr>\n",
       "      <th>...</th>\n",
       "      <td>...</td>\n",
       "      <td>...</td>\n",
       "      <td>...</td>\n",
       "      <td>...</td>\n",
       "      <td>...</td>\n",
       "      <td>...</td>\n",
       "      <td>...</td>\n",
       "      <td>...</td>\n",
       "      <td>...</td>\n",
       "      <td>...</td>\n",
       "    </tr>\n",
       "    <tr>\n",
       "      <th>453556</th>\n",
       "      <td>1</td>\n",
       "      <td>A3NR3JO8QXRNTN</td>\n",
       "      <td>B01H6GUCCQ</td>\n",
       "      <td>1538265600</td>\n",
       "      <td>1.0</td>\n",
       "      <td>0</td>\n",
       "      <td>0</td>\n",
       "      <td>1</td>\n",
       "      <td>0</td>\n",
       "      <td>0</td>\n",
       "    </tr>\n",
       "    <tr>\n",
       "      <th>453557</th>\n",
       "      <td>5</td>\n",
       "      <td>A3QBMO3NTKUU21</td>\n",
       "      <td>B01H6GUCCQ</td>\n",
       "      <td>1538265600</td>\n",
       "      <td>1.0</td>\n",
       "      <td>0</td>\n",
       "      <td>0</td>\n",
       "      <td>1</td>\n",
       "      <td>0</td>\n",
       "      <td>0</td>\n",
       "    </tr>\n",
       "    <tr>\n",
       "      <th>453558</th>\n",
       "      <td>1</td>\n",
       "      <td>A3ELGOLQ8393WC</td>\n",
       "      <td>B01H6GUCCQ</td>\n",
       "      <td>1538265600</td>\n",
       "      <td>1.0</td>\n",
       "      <td>0</td>\n",
       "      <td>0</td>\n",
       "      <td>1</td>\n",
       "      <td>0</td>\n",
       "      <td>0</td>\n",
       "    </tr>\n",
       "    <tr>\n",
       "      <th>453559</th>\n",
       "      <td>2</td>\n",
       "      <td>A2MMNV4U0G39S6</td>\n",
       "      <td>B01H6GUCCQ</td>\n",
       "      <td>1538179200</td>\n",
       "      <td>1.0</td>\n",
       "      <td>0</td>\n",
       "      <td>0</td>\n",
       "      <td>1</td>\n",
       "      <td>0</td>\n",
       "      <td>0</td>\n",
       "    </tr>\n",
       "    <tr>\n",
       "      <th>453561</th>\n",
       "      <td>5</td>\n",
       "      <td>A3P9X2TZ94P7YJ</td>\n",
       "      <td>B01H6GUCCQ</td>\n",
       "      <td>1538006400</td>\n",
       "      <td>1.0</td>\n",
       "      <td>0</td>\n",
       "      <td>0</td>\n",
       "      <td>1</td>\n",
       "      <td>0</td>\n",
       "      <td>0</td>\n",
       "    </tr>\n",
       "  </tbody>\n",
       "</table>\n",
       "<p>384546 rows × 10 columns</p>\n",
       "</div>"
      ],
      "text/plain": [
       "        overall      reviewerID        asin  unixReviewTime  verified  \\\n",
       "1             5  A3ISBEPYLY8IMO  B00000JRSB      1514851200       1.0   \n",
       "2             5  A1RIUB1PZWLOVZ  B00000JRSB      1513814400       1.0   \n",
       "3             5  A2VY0K54SOCG0F  B00000JRSB      1513728000       0.0   \n",
       "4             5  A1ABJQ2REV14OQ  B00000JRSB      1513641600       1.0   \n",
       "5             5  A368DF2G0T502X  B00000JRSB      1512777600       1.0   \n",
       "...         ...             ...         ...             ...       ...   \n",
       "453556        1  A3NR3JO8QXRNTN  B01H6GUCCQ      1538265600       1.0   \n",
       "453557        5  A3QBMO3NTKUU21  B01H6GUCCQ      1538265600       1.0   \n",
       "453558        1  A3ELGOLQ8393WC  B01H6GUCCQ      1538265600       1.0   \n",
       "453559        2  A2MMNV4U0G39S6  B01H6GUCCQ      1538179200       1.0   \n",
       "453561        5  A3P9X2TZ94P7YJ  B01H6GUCCQ      1538006400       1.0   \n",
       "\n",
       "        all_eletronics  amazon_home  computers  sports_outdoors  video_games  \n",
       "1                    0            0          0                0            1  \n",
       "2                    0            0          0                0            1  \n",
       "3                    0            0          0                0            1  \n",
       "4                    0            0          0                0            1  \n",
       "5                    0            0          0                0            1  \n",
       "...                ...          ...        ...              ...          ...  \n",
       "453556               0            0          1                0            0  \n",
       "453557               0            0          1                0            0  \n",
       "453558               0            0          1                0            0  \n",
       "453559               0            0          1                0            0  \n",
       "453561               0            0          1                0            0  \n",
       "\n",
       "[384546 rows x 10 columns]"
      ]
     },
     "execution_count": 40,
     "metadata": {},
     "output_type": "execute_result"
    }
   ],
   "source": [
    "df_clf_model"
   ]
  },
  {
   "cell_type": "code",
   "execution_count": 41,
   "metadata": {},
   "outputs": [
    {
     "data": {
      "text/plain": [
       "1.0    314250\n",
       "0.0     70296\n",
       "Name: verified, dtype: int64"
      ]
     },
     "execution_count": 41,
     "metadata": {},
     "output_type": "execute_result"
    }
   ],
   "source": [
    "df_clf_model['verified'].value_counts()"
   ]
  },
  {
   "cell_type": "markdown",
   "metadata": {},
   "source": [
    "Como o nosso dataset está desbalanceado, vamos pegar uma amostra com 100.000 verified=True"
   ]
  },
  {
   "cell_type": "code",
   "execution_count": 42,
   "metadata": {},
   "outputs": [],
   "source": [
    "sample_verified = df_clf_model[df_clf_model['verified']==1].sample(100000)\n",
    "sample_NonVerified = df_clf_model[df_clf_model['verified']==0]\n",
    "sample = sample_verified.append(sample_NonVerified)"
   ]
  },
  {
   "cell_type": "code",
   "execution_count": 43,
   "metadata": {},
   "outputs": [
    {
     "data": {
      "text/html": [
       "<div>\n",
       "<style scoped>\n",
       "    .dataframe tbody tr th:only-of-type {\n",
       "        vertical-align: middle;\n",
       "    }\n",
       "\n",
       "    .dataframe tbody tr th {\n",
       "        vertical-align: top;\n",
       "    }\n",
       "\n",
       "    .dataframe thead th {\n",
       "        text-align: right;\n",
       "    }\n",
       "</style>\n",
       "<table border=\"1\" class=\"dataframe\">\n",
       "  <thead>\n",
       "    <tr style=\"text-align: right;\">\n",
       "      <th></th>\n",
       "      <th>overall</th>\n",
       "      <th>reviewerID</th>\n",
       "      <th>asin</th>\n",
       "      <th>unixReviewTime</th>\n",
       "      <th>verified</th>\n",
       "      <th>all_eletronics</th>\n",
       "      <th>amazon_home</th>\n",
       "      <th>computers</th>\n",
       "      <th>sports_outdoors</th>\n",
       "      <th>video_games</th>\n",
       "    </tr>\n",
       "  </thead>\n",
       "  <tbody>\n",
       "    <tr>\n",
       "      <th>305814</th>\n",
       "      <td>4</td>\n",
       "      <td>AVKAES8JTAT4W</td>\n",
       "      <td>B00HTK1NCS</td>\n",
       "      <td>1483747200</td>\n",
       "      <td>1.0</td>\n",
       "      <td>0</td>\n",
       "      <td>0</td>\n",
       "      <td>1</td>\n",
       "      <td>0</td>\n",
       "      <td>0</td>\n",
       "    </tr>\n",
       "    <tr>\n",
       "      <th>167720</th>\n",
       "      <td>5</td>\n",
       "      <td>A1OB6LDS4U0UDZ</td>\n",
       "      <td>B005JB84GM</td>\n",
       "      <td>1433635200</td>\n",
       "      <td>1.0</td>\n",
       "      <td>0</td>\n",
       "      <td>0</td>\n",
       "      <td>0</td>\n",
       "      <td>0</td>\n",
       "      <td>1</td>\n",
       "    </tr>\n",
       "    <tr>\n",
       "      <th>318892</th>\n",
       "      <td>4</td>\n",
       "      <td>A3PDR47IGN9TA4</td>\n",
       "      <td>B00IVJ1M7M</td>\n",
       "      <td>1404432000</td>\n",
       "      <td>1.0</td>\n",
       "      <td>0</td>\n",
       "      <td>0</td>\n",
       "      <td>0</td>\n",
       "      <td>0</td>\n",
       "      <td>1</td>\n",
       "    </tr>\n",
       "    <tr>\n",
       "      <th>136528</th>\n",
       "      <td>1</td>\n",
       "      <td>A2NJ9STIFNA6FZ</td>\n",
       "      <td>B003YC4D9A</td>\n",
       "      <td>1449705600</td>\n",
       "      <td>1.0</td>\n",
       "      <td>0</td>\n",
       "      <td>0</td>\n",
       "      <td>1</td>\n",
       "      <td>0</td>\n",
       "      <td>0</td>\n",
       "    </tr>\n",
       "    <tr>\n",
       "      <th>73039</th>\n",
       "      <td>1</td>\n",
       "      <td>ARI9WIQBVHMZS</td>\n",
       "      <td>B0015AARJI</td>\n",
       "      <td>1450224000</td>\n",
       "      <td>1.0</td>\n",
       "      <td>0</td>\n",
       "      <td>0</td>\n",
       "      <td>0</td>\n",
       "      <td>0</td>\n",
       "      <td>1</td>\n",
       "    </tr>\n",
       "  </tbody>\n",
       "</table>\n",
       "</div>"
      ],
      "text/plain": [
       "        overall      reviewerID        asin  unixReviewTime  verified  \\\n",
       "305814        4   AVKAES8JTAT4W  B00HTK1NCS      1483747200       1.0   \n",
       "167720        5  A1OB6LDS4U0UDZ  B005JB84GM      1433635200       1.0   \n",
       "318892        4  A3PDR47IGN9TA4  B00IVJ1M7M      1404432000       1.0   \n",
       "136528        1  A2NJ9STIFNA6FZ  B003YC4D9A      1449705600       1.0   \n",
       "73039         1   ARI9WIQBVHMZS  B0015AARJI      1450224000       1.0   \n",
       "\n",
       "        all_eletronics  amazon_home  computers  sports_outdoors  video_games  \n",
       "305814               0            0          1                0            0  \n",
       "167720               0            0          0                0            1  \n",
       "318892               0            0          0                0            1  \n",
       "136528               0            0          1                0            0  \n",
       "73039                0            0          0                0            1  "
      ]
     },
     "execution_count": 43,
     "metadata": {},
     "output_type": "execute_result"
    }
   ],
   "source": [
    "sample.head()"
   ]
  },
  {
   "cell_type": "code",
   "execution_count": 44,
   "metadata": {},
   "outputs": [],
   "source": [
    "X = sample.drop(columns=['reviewerID', 'asin', 'verified'])\n",
    "y = sample[['verified']]"
   ]
  },
  {
   "cell_type": "code",
   "execution_count": 45,
   "metadata": {},
   "outputs": [
    {
     "name": "stdout",
     "output_type": "stream",
     "text": [
      "(170296, 7)\n",
      "(170296, 1)\n"
     ]
    }
   ],
   "source": [
    "print(X.shape)\n",
    "print(y.shape)"
   ]
  },
  {
   "cell_type": "markdown",
   "metadata": {},
   "source": [
    "Train Test Split"
   ]
  },
  {
   "cell_type": "code",
   "execution_count": 46,
   "metadata": {},
   "outputs": [],
   "source": [
    "X_train, X_test, y_train, y_test = train_test_split(X, y, test_size=0.20, random_state=123)"
   ]
  },
  {
   "cell_type": "code",
   "execution_count": 47,
   "metadata": {},
   "outputs": [
    {
     "data": {
      "text/plain": [
       "((136236, 7), (34060, 7), (136236, 1), (34060, 1))"
      ]
     },
     "execution_count": 47,
     "metadata": {},
     "output_type": "execute_result"
    }
   ],
   "source": [
    "X_train.shape, X_test.shape, y_train.shape, y_test.shape"
   ]
  },
  {
   "cell_type": "markdown",
   "metadata": {},
   "source": [
    "Normalizando nosso modelo"
   ]
  },
  {
   "cell_type": "code",
   "execution_count": 48,
   "metadata": {},
   "outputs": [],
   "source": [
    "scaler = MinMaxScaler()\n",
    "scaler.fit(X_train)\n",
    "X_train_scaled = scaler.transform(X_train)\n",
    "X_test_scaled = scaler.transform(X_test)"
   ]
  },
  {
   "cell_type": "code",
   "execution_count": 49,
   "metadata": {},
   "outputs": [],
   "source": [
    "scores_list = []\n",
    "models_list = []"
   ]
  },
  {
   "cell_type": "markdown",
   "metadata": {},
   "source": [
    "## Regressão Logística"
   ]
  },
  {
   "cell_type": "code",
   "execution_count": 50,
   "metadata": {},
   "outputs": [
    {
     "name": "stderr",
     "output_type": "stream",
     "text": [
      "c:\\Users\\Public\\Anaconda\\lib\\site-packages\\sklearn\\utils\\validation.py:1111: DataConversionWarning: A column-vector y was passed when a 1d array was expected. Please change the shape of y to (n_samples, ), for example using ravel().\n",
      "  y = column_or_1d(y, warn=True)\n"
     ]
    },
    {
     "data": {
      "text/html": [
       "<style>#sk-container-id-1 {color: black;background-color: white;}#sk-container-id-1 pre{padding: 0;}#sk-container-id-1 div.sk-toggleable {background-color: white;}#sk-container-id-1 label.sk-toggleable__label {cursor: pointer;display: block;width: 100%;margin-bottom: 0;padding: 0.3em;box-sizing: border-box;text-align: center;}#sk-container-id-1 label.sk-toggleable__label-arrow:before {content: \"▸\";float: left;margin-right: 0.25em;color: #696969;}#sk-container-id-1 label.sk-toggleable__label-arrow:hover:before {color: black;}#sk-container-id-1 div.sk-estimator:hover label.sk-toggleable__label-arrow:before {color: black;}#sk-container-id-1 div.sk-toggleable__content {max-height: 0;max-width: 0;overflow: hidden;text-align: left;background-color: #f0f8ff;}#sk-container-id-1 div.sk-toggleable__content pre {margin: 0.2em;color: black;border-radius: 0.25em;background-color: #f0f8ff;}#sk-container-id-1 input.sk-toggleable__control:checked~div.sk-toggleable__content {max-height: 200px;max-width: 100%;overflow: auto;}#sk-container-id-1 input.sk-toggleable__control:checked~label.sk-toggleable__label-arrow:before {content: \"▾\";}#sk-container-id-1 div.sk-estimator input.sk-toggleable__control:checked~label.sk-toggleable__label {background-color: #d4ebff;}#sk-container-id-1 div.sk-label input.sk-toggleable__control:checked~label.sk-toggleable__label {background-color: #d4ebff;}#sk-container-id-1 input.sk-hidden--visually {border: 0;clip: rect(1px 1px 1px 1px);clip: rect(1px, 1px, 1px, 1px);height: 1px;margin: -1px;overflow: hidden;padding: 0;position: absolute;width: 1px;}#sk-container-id-1 div.sk-estimator {font-family: monospace;background-color: #f0f8ff;border: 1px dotted black;border-radius: 0.25em;box-sizing: border-box;margin-bottom: 0.5em;}#sk-container-id-1 div.sk-estimator:hover {background-color: #d4ebff;}#sk-container-id-1 div.sk-parallel-item::after {content: \"\";width: 100%;border-bottom: 1px solid gray;flex-grow: 1;}#sk-container-id-1 div.sk-label:hover label.sk-toggleable__label {background-color: #d4ebff;}#sk-container-id-1 div.sk-serial::before {content: \"\";position: absolute;border-left: 1px solid gray;box-sizing: border-box;top: 0;bottom: 0;left: 50%;z-index: 0;}#sk-container-id-1 div.sk-serial {display: flex;flex-direction: column;align-items: center;background-color: white;padding-right: 0.2em;padding-left: 0.2em;position: relative;}#sk-container-id-1 div.sk-item {position: relative;z-index: 1;}#sk-container-id-1 div.sk-parallel {display: flex;align-items: stretch;justify-content: center;background-color: white;position: relative;}#sk-container-id-1 div.sk-item::before, #sk-container-id-1 div.sk-parallel-item::before {content: \"\";position: absolute;border-left: 1px solid gray;box-sizing: border-box;top: 0;bottom: 0;left: 50%;z-index: -1;}#sk-container-id-1 div.sk-parallel-item {display: flex;flex-direction: column;z-index: 1;position: relative;background-color: white;}#sk-container-id-1 div.sk-parallel-item:first-child::after {align-self: flex-end;width: 50%;}#sk-container-id-1 div.sk-parallel-item:last-child::after {align-self: flex-start;width: 50%;}#sk-container-id-1 div.sk-parallel-item:only-child::after {width: 0;}#sk-container-id-1 div.sk-dashed-wrapped {border: 1px dashed gray;margin: 0 0.4em 0.5em 0.4em;box-sizing: border-box;padding-bottom: 0.4em;background-color: white;}#sk-container-id-1 div.sk-label label {font-family: monospace;font-weight: bold;display: inline-block;line-height: 1.2em;}#sk-container-id-1 div.sk-label-container {text-align: center;}#sk-container-id-1 div.sk-container {/* jupyter's `normalize.less` sets `[hidden] { display: none; }` but bootstrap.min.css set `[hidden] { display: none !important; }` so we also need the `!important` here to be able to override the default hidden behavior on the sphinx rendered scikit-learn.org. See: https://github.com/scikit-learn/scikit-learn/issues/21755 */display: inline-block !important;position: relative;}#sk-container-id-1 div.sk-text-repr-fallback {display: none;}</style><div id=\"sk-container-id-1\" class=\"sk-top-container\"><div class=\"sk-text-repr-fallback\"><pre>LogisticRegression()</pre><b>In a Jupyter environment, please rerun this cell to show the HTML representation or trust the notebook. <br />On GitHub, the HTML representation is unable to render, please try loading this page with nbviewer.org.</b></div><div class=\"sk-container\" hidden><div class=\"sk-item\"><div class=\"sk-estimator sk-toggleable\"><input class=\"sk-toggleable__control sk-hidden--visually\" id=\"sk-estimator-id-1\" type=\"checkbox\" checked><label for=\"sk-estimator-id-1\" class=\"sk-toggleable__label sk-toggleable__label-arrow\">LogisticRegression</label><div class=\"sk-toggleable__content\"><pre>LogisticRegression()</pre></div></div></div></div></div>"
      ],
      "text/plain": [
       "LogisticRegression()"
      ]
     },
     "execution_count": 50,
     "metadata": {},
     "output_type": "execute_result"
    }
   ],
   "source": [
    "clf_LR = LogisticRegression()\n",
    "clf_LR.fit(X_train_scaled, y_train)"
   ]
  },
  {
   "cell_type": "code",
   "execution_count": 51,
   "metadata": {},
   "outputs": [
    {
     "name": "stdout",
     "output_type": "stream",
     "text": [
      "Acurácia: 73.01%\n",
      "F-1 Score: 78.88%\n",
      "Recall: 86.31%\n",
      "Precision: 72.62%\n"
     ]
    }
   ],
   "source": [
    "y_pred_LR = clf_LR.predict(X_test_scaled)\n",
    "\n",
    "acuracia_LR = accuracy_score(y_test, y_pred_LR)\n",
    "f1_score_LR = f1_score(y_test, y_pred_LR)\n",
    "recall_LR = recall_score(y_test, y_pred_LR)\n",
    "precision_LR = precision_score(y_test, y_pred_LR)\n",
    "\n",
    "models_list.append('Regressão Logística')\n",
    "scores_list.append({'acuracia': acuracia_LR, 'f1-score': f1_score_LR, 'recall': recall_LR, 'precision': precision_LR})\n",
    "\n",
    "print(f'Acurácia: {acuracia_LR:.2%}')\n",
    "print(f'F-1 Score: {f1_score_LR:.2%}')\n",
    "print(f'Recall: {recall_LR:.2%}')\n",
    "print(f'Precision: {precision_LR:.2%}')"
   ]
  },
  {
   "cell_type": "markdown",
   "metadata": {},
   "source": [
    "## Gradient Boosting"
   ]
  },
  {
   "cell_type": "code",
   "execution_count": 52,
   "metadata": {},
   "outputs": [
    {
     "name": "stderr",
     "output_type": "stream",
     "text": [
      "c:\\Users\\Public\\Anaconda\\lib\\site-packages\\sklearn\\ensemble\\_gb.py:570: DataConversionWarning: A column-vector y was passed when a 1d array was expected. Please change the shape of y to (n_samples, ), for example using ravel().\n",
      "  y = column_or_1d(y, warn=True)\n"
     ]
    },
    {
     "name": "stdout",
     "output_type": "stream",
     "text": [
      "Acurácia: 74.42%\n",
      "F-1 Score: 80.15%\n",
      "Recall: 88.49%\n",
      "Precision: 73.25%\n"
     ]
    }
   ],
   "source": [
    "clf_Gb = GradientBoostingClassifier(n_estimators=250, subsample=1)\n",
    "clf_Gb.fit(X_train_scaled, y_train)\n",
    "\n",
    "y_pred_Gb = clf_Gb.predict(X_test_scaled)\n",
    "\n",
    "acuracia_Gb = accuracy_score(y_test, y_pred_Gb)\n",
    "f1_score_Gb = f1_score(y_test, y_pred_Gb)\n",
    "recall_Gb = recall_score(y_test, y_pred_Gb)\n",
    "precision_Gb = precision_score(y_test, y_pred_Gb)\n",
    "\n",
    "models_list.append('GradientBoosting')\n",
    "scores_list.append({'acuracia': acuracia_Gb, 'f1-score': f1_score_Gb, 'recall': recall_Gb, 'precision': precision_Gb})\n",
    "\n",
    "print(f'Acurácia: {acuracia_Gb:.2%}')\n",
    "print(f'F-1 Score: {f1_score_Gb:.2%}')\n",
    "print(f'Recall: {recall_Gb:.2%}')\n",
    "print(f'Precision: {precision_Gb:.2%}')"
   ]
  },
  {
   "cell_type": "markdown",
   "metadata": {},
   "source": [
    "## Random Forest\n"
   ]
  },
  {
   "cell_type": "code",
   "execution_count": 53,
   "metadata": {},
   "outputs": [
    {
     "name": "stderr",
     "output_type": "stream",
     "text": [
      "C:\\Users\\IANROS~1\\AppData\\Local\\Temp/ipykernel_4000/948922541.py:2: DataConversionWarning: A column-vector y was passed when a 1d array was expected. Please change the shape of y to (n_samples,), for example using ravel().\n",
      "  clf_RFC.fit(X_train_scaled, y_train)\n"
     ]
    },
    {
     "name": "stdout",
     "output_type": "stream",
     "text": [
      "Acurácia: 72.14%\n",
      "F-1 Score: 77.63%\n",
      "Recall: 82.77%\n",
      "Precision: 73.09%\n"
     ]
    }
   ],
   "source": [
    "clf_RFC = RandomForestClassifier()\n",
    "clf_RFC.fit(X_train_scaled, y_train)\n",
    "\n",
    "y_pred_RFC = clf_RFC.predict(X_test_scaled)\n",
    "\n",
    "acuracia_RF = accuracy_score(y_test, y_pred_RFC)\n",
    "f1_score_RF = f1_score(y_test, y_pred_RFC)\n",
    "recall_RF = recall_score(y_test, y_pred_RFC)\n",
    "precision_RF = precision_score(y_test, y_pred_RFC)\n",
    "\n",
    "models_list.append('RandomForest')\n",
    "scores_list.append({'acuracia': acuracia_RF, 'f1-score': f1_score_RF, 'recall': recall_RF, 'precision': precision_RF})\n",
    "\n",
    "print(f'Acurácia: {acuracia_RF:.2%}')\n",
    "print(f'F-1 Score: {f1_score_RF:.2%}')\n",
    "print(f'Recall: {recall_RF:.2%}')\n",
    "print(f'Precision: {precision_RF:.2%}')"
   ]
  },
  {
   "cell_type": "code",
   "execution_count": 54,
   "metadata": {},
   "outputs": [
    {
     "data": {
      "text/plain": [
       "array([1., 0., 1., ..., 0., 0., 0.])"
      ]
     },
     "execution_count": 54,
     "metadata": {},
     "output_type": "execute_result"
    }
   ],
   "source": [
    "y_pred_RFC"
   ]
  },
  {
   "cell_type": "markdown",
   "metadata": {},
   "source": [
    "## Avaliação dos Modelos"
   ]
  },
  {
   "cell_type": "code",
   "execution_count": 55,
   "metadata": {},
   "outputs": [
    {
     "data": {
      "text/html": [
       "<div>\n",
       "<style scoped>\n",
       "    .dataframe tbody tr th:only-of-type {\n",
       "        vertical-align: middle;\n",
       "    }\n",
       "\n",
       "    .dataframe tbody tr th {\n",
       "        vertical-align: top;\n",
       "    }\n",
       "\n",
       "    .dataframe thead th {\n",
       "        text-align: right;\n",
       "    }\n",
       "</style>\n",
       "<table border=\"1\" class=\"dataframe\">\n",
       "  <thead>\n",
       "    <tr style=\"text-align: right;\">\n",
       "      <th></th>\n",
       "      <th>acuracia</th>\n",
       "      <th>f1-score</th>\n",
       "      <th>recall</th>\n",
       "      <th>precision</th>\n",
       "    </tr>\n",
       "  </thead>\n",
       "  <tbody>\n",
       "    <tr>\n",
       "      <th>Regressão Logística</th>\n",
       "      <td>0.730123</td>\n",
       "      <td>0.788787</td>\n",
       "      <td>0.863120</td>\n",
       "      <td>0.726242</td>\n",
       "    </tr>\n",
       "    <tr>\n",
       "      <th>GradientBoosting</th>\n",
       "      <td>0.744157</td>\n",
       "      <td>0.801549</td>\n",
       "      <td>0.884944</td>\n",
       "      <td>0.732517</td>\n",
       "    </tr>\n",
       "    <tr>\n",
       "      <th>RandomForest</th>\n",
       "      <td>0.721433</td>\n",
       "      <td>0.776258</td>\n",
       "      <td>0.827668</td>\n",
       "      <td>0.730861</td>\n",
       "    </tr>\n",
       "  </tbody>\n",
       "</table>\n",
       "</div>"
      ],
      "text/plain": [
       "                     acuracia  f1-score    recall  precision\n",
       "Regressão Logística  0.730123  0.788787  0.863120   0.726242\n",
       "GradientBoosting     0.744157  0.801549  0.884944   0.732517\n",
       "RandomForest         0.721433  0.776258  0.827668   0.730861"
      ]
     },
     "execution_count": 55,
     "metadata": {},
     "output_type": "execute_result"
    }
   ],
   "source": [
    "df_scores = pd.DataFrame(scores_list, index=models_list)\n",
    "df_scores"
   ]
  },
  {
   "cell_type": "markdown",
   "metadata": {},
   "source": [
    "### Aplicando o Modelo na nossa base de valores nulos"
   ]
  },
  {
   "cell_type": "code",
   "execution_count": 56,
   "metadata": {},
   "outputs": [
    {
     "name": "stderr",
     "output_type": "stream",
     "text": [
      "c:\\Users\\Public\\Anaconda\\lib\\site-packages\\pandas\\core\\frame.py:4906: SettingWithCopyWarning: \n",
      "A value is trying to be set on a copy of a slice from a DataFrame\n",
      "\n",
      "See the caveats in the documentation: https://pandas.pydata.org/pandas-docs/stable/user_guide/indexing.html#returning-a-view-versus-a-copy\n",
      "  return super().drop(\n"
     ]
    }
   ],
   "source": [
    "df_clf_null.drop(columns=['reviewerName', 'reviewText', 'summary', 'title', 'also_buy', 'brand', 'also_view'], inplace=True)\n",
    "df_clf_null = pd.get_dummies(df_clf_null, columns=['main_cat'])\n",
    "df_clf_null.rename(column_names, axis=1, inplace=True)\n"
   ]
  },
  {
   "cell_type": "code",
   "execution_count": 57,
   "metadata": {},
   "outputs": [],
   "source": [
    "df_clf_null.drop(columns='verified', inplace=True)"
   ]
  },
  {
   "cell_type": "code",
   "execution_count": 58,
   "metadata": {},
   "outputs": [],
   "source": [
    "df_clf_null = df_clf_null.astype({\n",
    "    'reviewerID':'string',\n",
    "    'asin':'string'\n",
    "})"
   ]
  },
  {
   "cell_type": "code",
   "execution_count": 59,
   "metadata": {},
   "outputs": [
    {
     "data": {
      "text/plain": [
       "overall             int64\n",
       "reviewerID         string\n",
       "asin               string\n",
       "unixReviewTime      int64\n",
       "all_eletronics      uint8\n",
       "amazon_home         uint8\n",
       "computers           uint8\n",
       "sports_outdoors     uint8\n",
       "video_games         uint8\n",
       "dtype: object"
      ]
     },
     "execution_count": 59,
     "metadata": {},
     "output_type": "execute_result"
    }
   ],
   "source": [
    "df_clf_null.dtypes"
   ]
  },
  {
   "cell_type": "code",
   "execution_count": 60,
   "metadata": {},
   "outputs": [],
   "source": [
    "df_clf_null_scaled = scaler.transform(df_clf_null.select_dtypes(include=np.number))"
   ]
  },
  {
   "cell_type": "code",
   "execution_count": 61,
   "metadata": {},
   "outputs": [],
   "source": [
    "y_pred_real = clf_Gb.predict(df_clf_null_scaled)"
   ]
  },
  {
   "cell_type": "code",
   "execution_count": 62,
   "metadata": {},
   "outputs": [],
   "source": [
    "df_clf_null['verified'] = clf_Gb.predict(df_clf_null_scaled)"
   ]
  },
  {
   "cell_type": "code",
   "execution_count": 63,
   "metadata": {},
   "outputs": [
    {
     "data": {
      "text/plain": [
       "1.0    55722\n",
       "0.0    13294\n",
       "Name: verified, dtype: int64"
      ]
     },
     "execution_count": 63,
     "metadata": {},
     "output_type": "execute_result"
    }
   ],
   "source": [
    "df_clf_null['verified'].value_counts()"
   ]
  },
  {
   "cell_type": "code",
   "execution_count": 64,
   "metadata": {},
   "outputs": [
    {
     "data": {
      "text/html": [
       "<div>\n",
       "<style scoped>\n",
       "    .dataframe tbody tr th:only-of-type {\n",
       "        vertical-align: middle;\n",
       "    }\n",
       "\n",
       "    .dataframe tbody tr th {\n",
       "        vertical-align: top;\n",
       "    }\n",
       "\n",
       "    .dataframe thead th {\n",
       "        text-align: right;\n",
       "    }\n",
       "</style>\n",
       "<table border=\"1\" class=\"dataframe\">\n",
       "  <thead>\n",
       "    <tr style=\"text-align: right;\">\n",
       "      <th></th>\n",
       "      <th>overall</th>\n",
       "      <th>reviewerID</th>\n",
       "      <th>asin</th>\n",
       "      <th>unixReviewTime</th>\n",
       "      <th>all_eletronics</th>\n",
       "      <th>amazon_home</th>\n",
       "      <th>computers</th>\n",
       "      <th>sports_outdoors</th>\n",
       "      <th>video_games</th>\n",
       "      <th>verified</th>\n",
       "    </tr>\n",
       "  </thead>\n",
       "  <tbody>\n",
       "    <tr>\n",
       "      <th>0</th>\n",
       "      <td>1</td>\n",
       "      <td>A16FEXIKAPT24U</td>\n",
       "      <td>B00000JRSB</td>\n",
       "      <td>1514851200</td>\n",
       "      <td>0</td>\n",
       "      <td>0</td>\n",
       "      <td>0</td>\n",
       "      <td>0</td>\n",
       "      <td>1</td>\n",
       "      <td>1.0</td>\n",
       "    </tr>\n",
       "    <tr>\n",
       "      <th>12</th>\n",
       "      <td>5</td>\n",
       "      <td>A3562CUJCAN1JW</td>\n",
       "      <td>B00000JRSB</td>\n",
       "      <td>1503878400</td>\n",
       "      <td>0</td>\n",
       "      <td>0</td>\n",
       "      <td>0</td>\n",
       "      <td>0</td>\n",
       "      <td>1</td>\n",
       "      <td>1.0</td>\n",
       "    </tr>\n",
       "    <tr>\n",
       "      <th>13</th>\n",
       "      <td>5</td>\n",
       "      <td>AF1XK2YMF5Z1M</td>\n",
       "      <td>B00000JRSB</td>\n",
       "      <td>1502150400</td>\n",
       "      <td>0</td>\n",
       "      <td>0</td>\n",
       "      <td>0</td>\n",
       "      <td>0</td>\n",
       "      <td>1</td>\n",
       "      <td>1.0</td>\n",
       "    </tr>\n",
       "    <tr>\n",
       "      <th>19</th>\n",
       "      <td>5</td>\n",
       "      <td>AHKCTYD9XZOMZ</td>\n",
       "      <td>B00000JRSB</td>\n",
       "      <td>1495497600</td>\n",
       "      <td>0</td>\n",
       "      <td>0</td>\n",
       "      <td>0</td>\n",
       "      <td>0</td>\n",
       "      <td>1</td>\n",
       "      <td>1.0</td>\n",
       "    </tr>\n",
       "    <tr>\n",
       "      <th>23</th>\n",
       "      <td>5</td>\n",
       "      <td>A3IRUK7Z3G8GBL</td>\n",
       "      <td>B00000JRSB</td>\n",
       "      <td>1492473600</td>\n",
       "      <td>0</td>\n",
       "      <td>0</td>\n",
       "      <td>0</td>\n",
       "      <td>0</td>\n",
       "      <td>1</td>\n",
       "      <td>1.0</td>\n",
       "    </tr>\n",
       "    <tr>\n",
       "      <th>...</th>\n",
       "      <td>...</td>\n",
       "      <td>...</td>\n",
       "      <td>...</td>\n",
       "      <td>...</td>\n",
       "      <td>...</td>\n",
       "      <td>...</td>\n",
       "      <td>...</td>\n",
       "      <td>...</td>\n",
       "      <td>...</td>\n",
       "      <td>...</td>\n",
       "    </tr>\n",
       "    <tr>\n",
       "      <th>453535</th>\n",
       "      <td>5</td>\n",
       "      <td>A3USITYG2G0KXO</td>\n",
       "      <td>B01H6GUCCQ</td>\n",
       "      <td>1523059200</td>\n",
       "      <td>0</td>\n",
       "      <td>0</td>\n",
       "      <td>1</td>\n",
       "      <td>0</td>\n",
       "      <td>0</td>\n",
       "      <td>1.0</td>\n",
       "    </tr>\n",
       "    <tr>\n",
       "      <th>453540</th>\n",
       "      <td>5</td>\n",
       "      <td>A61UB8TF6JPUZ</td>\n",
       "      <td>B01H6GUCCQ</td>\n",
       "      <td>1523059200</td>\n",
       "      <td>0</td>\n",
       "      <td>0</td>\n",
       "      <td>1</td>\n",
       "      <td>0</td>\n",
       "      <td>0</td>\n",
       "      <td>1.0</td>\n",
       "    </tr>\n",
       "    <tr>\n",
       "      <th>453545</th>\n",
       "      <td>4</td>\n",
       "      <td>A2GTTLZ13XY720</td>\n",
       "      <td>B01H6GUCCQ</td>\n",
       "      <td>1522972800</td>\n",
       "      <td>0</td>\n",
       "      <td>0</td>\n",
       "      <td>1</td>\n",
       "      <td>0</td>\n",
       "      <td>0</td>\n",
       "      <td>1.0</td>\n",
       "    </tr>\n",
       "    <tr>\n",
       "      <th>453552</th>\n",
       "      <td>1</td>\n",
       "      <td>A1M05ZAV4GVYFO</td>\n",
       "      <td>B01H6GUCCQ</td>\n",
       "      <td>1538438400</td>\n",
       "      <td>0</td>\n",
       "      <td>0</td>\n",
       "      <td>1</td>\n",
       "      <td>0</td>\n",
       "      <td>0</td>\n",
       "      <td>1.0</td>\n",
       "    </tr>\n",
       "    <tr>\n",
       "      <th>453560</th>\n",
       "      <td>1</td>\n",
       "      <td>A1GFKSMVXX3G0X</td>\n",
       "      <td>B01H6GUCCQ</td>\n",
       "      <td>1538179200</td>\n",
       "      <td>0</td>\n",
       "      <td>0</td>\n",
       "      <td>1</td>\n",
       "      <td>0</td>\n",
       "      <td>0</td>\n",
       "      <td>1.0</td>\n",
       "    </tr>\n",
       "  </tbody>\n",
       "</table>\n",
       "<p>69016 rows × 10 columns</p>\n",
       "</div>"
      ],
      "text/plain": [
       "        overall      reviewerID        asin  unixReviewTime  all_eletronics  \\\n",
       "0             1  A16FEXIKAPT24U  B00000JRSB      1514851200               0   \n",
       "12            5  A3562CUJCAN1JW  B00000JRSB      1503878400               0   \n",
       "13            5   AF1XK2YMF5Z1M  B00000JRSB      1502150400               0   \n",
       "19            5   AHKCTYD9XZOMZ  B00000JRSB      1495497600               0   \n",
       "23            5  A3IRUK7Z3G8GBL  B00000JRSB      1492473600               0   \n",
       "...         ...             ...         ...             ...             ...   \n",
       "453535        5  A3USITYG2G0KXO  B01H6GUCCQ      1523059200               0   \n",
       "453540        5   A61UB8TF6JPUZ  B01H6GUCCQ      1523059200               0   \n",
       "453545        4  A2GTTLZ13XY720  B01H6GUCCQ      1522972800               0   \n",
       "453552        1  A1M05ZAV4GVYFO  B01H6GUCCQ      1538438400               0   \n",
       "453560        1  A1GFKSMVXX3G0X  B01H6GUCCQ      1538179200               0   \n",
       "\n",
       "        amazon_home  computers  sports_outdoors  video_games  verified  \n",
       "0                 0          0                0            1       1.0  \n",
       "12                0          0                0            1       1.0  \n",
       "13                0          0                0            1       1.0  \n",
       "19                0          0                0            1       1.0  \n",
       "23                0          0                0            1       1.0  \n",
       "...             ...        ...              ...          ...       ...  \n",
       "453535            0          1                0            0       1.0  \n",
       "453540            0          1                0            0       1.0  \n",
       "453545            0          1                0            0       1.0  \n",
       "453552            0          1                0            0       1.0  \n",
       "453560            0          1                0            0       1.0  \n",
       "\n",
       "[69016 rows x 10 columns]"
      ]
     },
     "execution_count": 64,
     "metadata": {},
     "output_type": "execute_result"
    }
   ],
   "source": [
    "df_clf_null"
   ]
  },
  {
   "cell_type": "code",
   "execution_count": 65,
   "metadata": {},
   "outputs": [],
   "source": [
    "df_final['verified'] = df_final['verified'].fillna(df_clf_null['verified'])"
   ]
  },
  {
   "cell_type": "code",
   "execution_count": 66,
   "metadata": {},
   "outputs": [
    {
     "data": {
      "text/plain": [
       "1.0    369972\n",
       "0.0     83590\n",
       "Name: verified, dtype: int64"
      ]
     },
     "execution_count": 66,
     "metadata": {},
     "output_type": "execute_result"
    }
   ],
   "source": [
    "df_final['verified'].value_counts()"
   ]
  },
  {
   "cell_type": "code",
   "execution_count": 67,
   "metadata": {},
   "outputs": [
    {
     "data": {
      "text/html": [
       "<div>\n",
       "<style scoped>\n",
       "    .dataframe tbody tr th:only-of-type {\n",
       "        vertical-align: middle;\n",
       "    }\n",
       "\n",
       "    .dataframe tbody tr th {\n",
       "        vertical-align: top;\n",
       "    }\n",
       "\n",
       "    .dataframe thead th {\n",
       "        text-align: right;\n",
       "    }\n",
       "</style>\n",
       "<table border=\"1\" class=\"dataframe\">\n",
       "  <thead>\n",
       "    <tr style=\"text-align: right;\">\n",
       "      <th></th>\n",
       "      <th>overall</th>\n",
       "      <th>reviewerID</th>\n",
       "      <th>asin</th>\n",
       "      <th>reviewerName</th>\n",
       "      <th>reviewText</th>\n",
       "      <th>summary</th>\n",
       "      <th>unixReviewTime</th>\n",
       "      <th>verified</th>\n",
       "      <th>title</th>\n",
       "      <th>also_buy</th>\n",
       "      <th>brand</th>\n",
       "      <th>also_view</th>\n",
       "      <th>main_cat</th>\n",
       "    </tr>\n",
       "  </thead>\n",
       "  <tbody>\n",
       "    <tr>\n",
       "      <th>0</th>\n",
       "      <td>1</td>\n",
       "      <td>A16FEXIKAPT24U</td>\n",
       "      <td>B00000JRSB</td>\n",
       "      <td>Nicholas Sabin</td>\n",
       "      <td>Game disc was cracked thats pretty lame</td>\n",
       "      <td>Game disc 1 was cracked</td>\n",
       "      <td>1514851200</td>\n",
       "      <td>1.0</td>\n",
       "      <td>Final Fantasy VII</td>\n",
       "      <td>[B0000296O5, B00004Y57G, B00002R28C, B0045L3SN...</td>\n",
       "      <td>SquareSoft</td>\n",
       "      <td>[B00004Y57G, B00004TC6E, B00ZS80PC2, B0000296O...</td>\n",
       "      <td>Video Games</td>\n",
       "    </tr>\n",
       "    <tr>\n",
       "      <th>1</th>\n",
       "      <td>5</td>\n",
       "      <td>A3ISBEPYLY8IMO</td>\n",
       "      <td>B00000JRSB</td>\n",
       "      <td>Jimmy</td>\n",
       "      <td>Received this in perfect condition. Great rese...</td>\n",
       "      <td>Received this in perfect condition. Great rese...</td>\n",
       "      <td>1514851200</td>\n",
       "      <td>1.0</td>\n",
       "      <td>Final Fantasy VII</td>\n",
       "      <td>[B0000296O5, B00004Y57G, B00002R28C, B0045L3SN...</td>\n",
       "      <td>SquareSoft</td>\n",
       "      <td>[B00004Y57G, B00004TC6E, B00ZS80PC2, B0000296O...</td>\n",
       "      <td>Video Games</td>\n",
       "    </tr>\n",
       "    <tr>\n",
       "      <th>2</th>\n",
       "      <td>5</td>\n",
       "      <td>A1RIUB1PZWLOVZ</td>\n",
       "      <td>B00000JRSB</td>\n",
       "      <td>Amazon Customer</td>\n",
       "      <td>I had a hard time finding this game locally or...</td>\n",
       "      <td>I am very pleased with this purchase</td>\n",
       "      <td>1513814400</td>\n",
       "      <td>1.0</td>\n",
       "      <td>Final Fantasy VII</td>\n",
       "      <td>[B0000296O5, B00004Y57G, B00002R28C, B0045L3SN...</td>\n",
       "      <td>SquareSoft</td>\n",
       "      <td>[B00004Y57G, B00004TC6E, B00ZS80PC2, B0000296O...</td>\n",
       "      <td>Video Games</td>\n",
       "    </tr>\n",
       "    <tr>\n",
       "      <th>4</th>\n",
       "      <td>5</td>\n",
       "      <td>A1ABJQ2REV14OQ</td>\n",
       "      <td>B00000JRSB</td>\n",
       "      <td>Thiago</td>\n",
       "      <td>I bought as a gift for my friend, she is so ex...</td>\n",
       "      <td>Loved by lots of people</td>\n",
       "      <td>1513641600</td>\n",
       "      <td>1.0</td>\n",
       "      <td>Final Fantasy VII</td>\n",
       "      <td>[B0000296O5, B00004Y57G, B00002R28C, B0045L3SN...</td>\n",
       "      <td>SquareSoft</td>\n",
       "      <td>[B00004Y57G, B00004TC6E, B00ZS80PC2, B0000296O...</td>\n",
       "      <td>Video Games</td>\n",
       "    </tr>\n",
       "    <tr>\n",
       "      <th>5</th>\n",
       "      <td>5</td>\n",
       "      <td>A368DF2G0T502X</td>\n",
       "      <td>B00000JRSB</td>\n",
       "      <td>Jonathan carter</td>\n",
       "      <td>Looks good, some scratches on discs but plays.</td>\n",
       "      <td>Five Stars</td>\n",
       "      <td>1512777600</td>\n",
       "      <td>1.0</td>\n",
       "      <td>Final Fantasy VII</td>\n",
       "      <td>[B0000296O5, B00004Y57G, B00002R28C, B0045L3SN...</td>\n",
       "      <td>SquareSoft</td>\n",
       "      <td>[B00004Y57G, B00004TC6E, B00ZS80PC2, B0000296O...</td>\n",
       "      <td>Video Games</td>\n",
       "    </tr>\n",
       "  </tbody>\n",
       "</table>\n",
       "</div>"
      ],
      "text/plain": [
       "   overall      reviewerID        asin     reviewerName  \\\n",
       "0        1  A16FEXIKAPT24U  B00000JRSB   Nicholas Sabin   \n",
       "1        5  A3ISBEPYLY8IMO  B00000JRSB            Jimmy   \n",
       "2        5  A1RIUB1PZWLOVZ  B00000JRSB  Amazon Customer   \n",
       "4        5  A1ABJQ2REV14OQ  B00000JRSB           Thiago   \n",
       "5        5  A368DF2G0T502X  B00000JRSB  Jonathan carter   \n",
       "\n",
       "                                          reviewText  \\\n",
       "0            Game disc was cracked thats pretty lame   \n",
       "1  Received this in perfect condition. Great rese...   \n",
       "2  I had a hard time finding this game locally or...   \n",
       "4  I bought as a gift for my friend, she is so ex...   \n",
       "5     Looks good, some scratches on discs but plays.   \n",
       "\n",
       "                                             summary  unixReviewTime  \\\n",
       "0                            Game disc 1 was cracked      1514851200   \n",
       "1  Received this in perfect condition. Great rese...      1514851200   \n",
       "2               I am very pleased with this purchase      1513814400   \n",
       "4                            Loved by lots of people      1513641600   \n",
       "5                                         Five Stars      1512777600   \n",
       "\n",
       "   verified              title  \\\n",
       "0       1.0  Final Fantasy VII   \n",
       "1       1.0  Final Fantasy VII   \n",
       "2       1.0  Final Fantasy VII   \n",
       "4       1.0  Final Fantasy VII   \n",
       "5       1.0  Final Fantasy VII   \n",
       "\n",
       "                                            also_buy       brand  \\\n",
       "0  [B0000296O5, B00004Y57G, B00002R28C, B0045L3SN...  SquareSoft   \n",
       "1  [B0000296O5, B00004Y57G, B00002R28C, B0045L3SN...  SquareSoft   \n",
       "2  [B0000296O5, B00004Y57G, B00002R28C, B0045L3SN...  SquareSoft   \n",
       "4  [B0000296O5, B00004Y57G, B00002R28C, B0045L3SN...  SquareSoft   \n",
       "5  [B0000296O5, B00004Y57G, B00002R28C, B0045L3SN...  SquareSoft   \n",
       "\n",
       "                                           also_view     main_cat  \n",
       "0  [B00004Y57G, B00004TC6E, B00ZS80PC2, B0000296O...  Video Games  \n",
       "1  [B00004Y57G, B00004TC6E, B00ZS80PC2, B0000296O...  Video Games  \n",
       "2  [B00004Y57G, B00004TC6E, B00ZS80PC2, B0000296O...  Video Games  \n",
       "4  [B00004Y57G, B00004TC6E, B00ZS80PC2, B0000296O...  Video Games  \n",
       "5  [B00004Y57G, B00004TC6E, B00ZS80PC2, B0000296O...  Video Games  "
      ]
     },
     "execution_count": 67,
     "metadata": {},
     "output_type": "execute_result"
    }
   ],
   "source": [
    "df_final[df_final['verified']==1].head()"
   ]
  },
  {
   "cell_type": "markdown",
   "metadata": {},
   "source": [
    "## Montando o modelo de recomendação"
   ]
  },
  {
   "cell_type": "code",
   "execution_count": 68,
   "metadata": {},
   "outputs": [],
   "source": [
    "df_recomendacao = df_final[df_final['verified']==1]"
   ]
  },
  {
   "cell_type": "code",
   "execution_count": 69,
   "metadata": {},
   "outputs": [
    {
     "data": {
      "text/html": [
       "<div>\n",
       "<style scoped>\n",
       "    .dataframe tbody tr th:only-of-type {\n",
       "        vertical-align: middle;\n",
       "    }\n",
       "\n",
       "    .dataframe tbody tr th {\n",
       "        vertical-align: top;\n",
       "    }\n",
       "\n",
       "    .dataframe thead th {\n",
       "        text-align: right;\n",
       "    }\n",
       "</style>\n",
       "<table border=\"1\" class=\"dataframe\">\n",
       "  <thead>\n",
       "    <tr style=\"text-align: right;\">\n",
       "      <th></th>\n",
       "      <th>asin</th>\n",
       "      <th>title</th>\n",
       "      <th>num_overall</th>\n",
       "    </tr>\n",
       "  </thead>\n",
       "  <tbody>\n",
       "    <tr>\n",
       "      <th>176</th>\n",
       "      <td>B00HTK1NCS</td>\n",
       "      <td>Redragon M601 Wired Gaming Mouse, Ergonomic, P...</td>\n",
       "      <td>5944</td>\n",
       "    </tr>\n",
       "    <tr>\n",
       "      <th>80</th>\n",
       "      <td>B004RMK57U</td>\n",
       "      <td>Playstation Plus: 3 Month Membership [Digital ...</td>\n",
       "      <td>4991</td>\n",
       "    </tr>\n",
       "    <tr>\n",
       "      <th>191</th>\n",
       "      <td>B00KKAQYXM</td>\n",
       "      <td>HAVIT HV-MS672 3200DPI Wired Mouse, 4 Adjustab...</td>\n",
       "      <td>4032</td>\n",
       "    </tr>\n",
       "    <tr>\n",
       "      <th>74</th>\n",
       "      <td>B003ZSP0WW</td>\n",
       "      <td>Xbox 360 Wireless Controller - Glossy Black</td>\n",
       "      <td>3748</td>\n",
       "    </tr>\n",
       "    <tr>\n",
       "      <th>184</th>\n",
       "      <td>B00JJNQG98</td>\n",
       "      <td>HyperX Cloud Gaming Headset for PC, Xbox One&amp;s...</td>\n",
       "      <td>3718</td>\n",
       "    </tr>\n",
       "    <tr>\n",
       "      <th>156</th>\n",
       "      <td>B00E4MQODC</td>\n",
       "      <td>Logitech G602 Lag-Free Wireless Gaming Mouse &amp;...</td>\n",
       "      <td>3248</td>\n",
       "    </tr>\n",
       "    <tr>\n",
       "      <th>12</th>\n",
       "      <td>B000B9RI14</td>\n",
       "      <td>Xbox 360 LIVE 1600 Points</td>\n",
       "      <td>3057</td>\n",
       "    </tr>\n",
       "    <tr>\n",
       "      <th>149</th>\n",
       "      <td>B00DBDPOZ4</td>\n",
       "      <td>Xbox One Play and Charge Kit</td>\n",
       "      <td>2892</td>\n",
       "    </tr>\n",
       "    <tr>\n",
       "      <th>20</th>\n",
       "      <td>B000HZFCT2</td>\n",
       "      <td>Microsoft Xbox 360 Wireless Receiver for Windows</td>\n",
       "      <td>2793</td>\n",
       "    </tr>\n",
       "    <tr>\n",
       "      <th>133</th>\n",
       "      <td>B00CMN0Z0S</td>\n",
       "      <td>60GB Hard Disk Drive for Xbox 360 Slim</td>\n",
       "      <td>2791</td>\n",
       "    </tr>\n",
       "  </tbody>\n",
       "</table>\n",
       "</div>"
      ],
      "text/plain": [
       "           asin                                              title  \\\n",
       "176  B00HTK1NCS  Redragon M601 Wired Gaming Mouse, Ergonomic, P...   \n",
       "80   B004RMK57U  Playstation Plus: 3 Month Membership [Digital ...   \n",
       "191  B00KKAQYXM  HAVIT HV-MS672 3200DPI Wired Mouse, 4 Adjustab...   \n",
       "74   B003ZSP0WW        Xbox 360 Wireless Controller - Glossy Black   \n",
       "184  B00JJNQG98  HyperX Cloud Gaming Headset for PC, Xbox One&s...   \n",
       "156  B00E4MQODC  Logitech G602 Lag-Free Wireless Gaming Mouse &...   \n",
       "12   B000B9RI14                          Xbox 360 LIVE 1600 Points   \n",
       "149  B00DBDPOZ4                       Xbox One Play and Charge Kit   \n",
       "20   B000HZFCT2   Microsoft Xbox 360 Wireless Receiver for Windows   \n",
       "133  B00CMN0Z0S             60GB Hard Disk Drive for Xbox 360 Slim   \n",
       "\n",
       "     num_overall  \n",
       "176         5944  \n",
       "80          4991  \n",
       "191         4032  \n",
       "74          3748  \n",
       "184         3718  \n",
       "156         3248  \n",
       "12          3057  \n",
       "149         2892  \n",
       "20          2793  \n",
       "133         2791  "
      ]
     },
     "execution_count": 69,
     "metadata": {},
     "output_type": "execute_result"
    }
   ],
   "source": [
    "num_overall = df_recomendacao.groupby(by=['asin', 'title']).agg({\n",
    "    'overall':'count'\n",
    "}) \\\n",
    "    .reset_index()\n",
    "\n",
    "num_overall.rename(columns={'overall':'num_overall'}, inplace=True)\n",
    "num_overall.sort_values('num_overall', ascending=False).head(10)"
   ]
  },
  {
   "cell_type": "code",
   "execution_count": 70,
   "metadata": {},
   "outputs": [
    {
     "data": {
      "text/html": [
       "<div>\n",
       "<style scoped>\n",
       "    .dataframe tbody tr th:only-of-type {\n",
       "        vertical-align: middle;\n",
       "    }\n",
       "\n",
       "    .dataframe tbody tr th {\n",
       "        vertical-align: top;\n",
       "    }\n",
       "\n",
       "    .dataframe thead th {\n",
       "        text-align: right;\n",
       "    }\n",
       "</style>\n",
       "<table border=\"1\" class=\"dataframe\">\n",
       "  <thead>\n",
       "    <tr style=\"text-align: right;\">\n",
       "      <th></th>\n",
       "      <th>asin</th>\n",
       "      <th>title</th>\n",
       "      <th>avg_overall</th>\n",
       "    </tr>\n",
       "  </thead>\n",
       "  <tbody>\n",
       "    <tr>\n",
       "      <th>113</th>\n",
       "      <td>B00AKIPBNS</td>\n",
       "      <td>Fire Emblem: Awakening</td>\n",
       "      <td>4.798387</td>\n",
       "    </tr>\n",
       "    <tr>\n",
       "      <th>48</th>\n",
       "      <td>B0017KIBAI</td>\n",
       "      <td>Official Nintendo White Classic Gamecube Contr...</td>\n",
       "      <td>4.793351</td>\n",
       "    </tr>\n",
       "    <tr>\n",
       "      <th>224</th>\n",
       "      <td>B00UG63VDG</td>\n",
       "      <td>TAKECASE New 3DS XL and 2DS XL Carrying Case -...</td>\n",
       "      <td>4.793137</td>\n",
       "    </tr>\n",
       "    <tr>\n",
       "      <th>150</th>\n",
       "      <td>B00DC7G0GG</td>\n",
       "      <td>Super Mario 3D World - Nintendo Wii U</td>\n",
       "      <td>4.789817</td>\n",
       "    </tr>\n",
       "    <tr>\n",
       "      <th>190</th>\n",
       "      <td>B00KI2OZ9M</td>\n",
       "      <td>Pok&amp;eacute;mon Omega Ruby - Nintendo 3DS</td>\n",
       "      <td>4.772516</td>\n",
       "    </tr>\n",
       "    <tr>\n",
       "      <th>188</th>\n",
       "      <td>B00K848IH0</td>\n",
       "      <td>Pokemon Alpha Sapphire - Nintendo 3DS</td>\n",
       "      <td>4.768563</td>\n",
       "    </tr>\n",
       "    <tr>\n",
       "      <th>153</th>\n",
       "      <td>B00DD0B1R0</td>\n",
       "      <td>Super Smash Bros. - Nintendo 3DS</td>\n",
       "      <td>4.765945</td>\n",
       "    </tr>\n",
       "    <tr>\n",
       "      <th>171</th>\n",
       "      <td>B00GANWVJE</td>\n",
       "      <td>The Legend of Zelda: A Link Between Worlds 3D</td>\n",
       "      <td>4.762082</td>\n",
       "    </tr>\n",
       "    <tr>\n",
       "      <th>90</th>\n",
       "      <td>B0053BCML6</td>\n",
       "      <td>Animal Crossing: New Leaf</td>\n",
       "      <td>4.758410</td>\n",
       "    </tr>\n",
       "    <tr>\n",
       "      <th>151</th>\n",
       "      <td>B00DC7G2W8</td>\n",
       "      <td>Mario Kart 8 - Nintendo Wii U</td>\n",
       "      <td>4.756424</td>\n",
       "    </tr>\n",
       "  </tbody>\n",
       "</table>\n",
       "</div>"
      ],
      "text/plain": [
       "           asin                                              title  \\\n",
       "113  B00AKIPBNS                             Fire Emblem: Awakening   \n",
       "48   B0017KIBAI  Official Nintendo White Classic Gamecube Contr...   \n",
       "224  B00UG63VDG  TAKECASE New 3DS XL and 2DS XL Carrying Case -...   \n",
       "150  B00DC7G0GG              Super Mario 3D World - Nintendo Wii U   \n",
       "190  B00KI2OZ9M           Pok&eacute;mon Omega Ruby - Nintendo 3DS   \n",
       "188  B00K848IH0              Pokemon Alpha Sapphire - Nintendo 3DS   \n",
       "153  B00DD0B1R0                   Super Smash Bros. - Nintendo 3DS   \n",
       "171  B00GANWVJE      The Legend of Zelda: A Link Between Worlds 3D   \n",
       "90   B0053BCML6                          Animal Crossing: New Leaf   \n",
       "151  B00DC7G2W8                      Mario Kart 8 - Nintendo Wii U   \n",
       "\n",
       "     avg_overall  \n",
       "113     4.798387  \n",
       "48      4.793351  \n",
       "224     4.793137  \n",
       "150     4.789817  \n",
       "190     4.772516  \n",
       "188     4.768563  \n",
       "153     4.765945  \n",
       "171     4.762082  \n",
       "90      4.758410  \n",
       "151     4.756424  "
      ]
     },
     "execution_count": 70,
     "metadata": {},
     "output_type": "execute_result"
    }
   ],
   "source": [
    "avg_overall = df_recomendacao.groupby(by=['asin', 'title']).agg({\n",
    "    'overall':'mean'\n",
    "}) \\\n",
    "    .reset_index()\n",
    "\n",
    "avg_overall.rename(columns={'overall':'avg_overall'}, inplace=True)\n",
    "avg_overall.sort_values('avg_overall', ascending=False).head(10)"
   ]
  },
  {
   "cell_type": "code",
   "execution_count": 71,
   "metadata": {},
   "outputs": [
    {
     "data": {
      "text/html": [
       "<div>\n",
       "<style scoped>\n",
       "    .dataframe tbody tr th:only-of-type {\n",
       "        vertical-align: middle;\n",
       "    }\n",
       "\n",
       "    .dataframe tbody tr th {\n",
       "        vertical-align: top;\n",
       "    }\n",
       "\n",
       "    .dataframe thead th {\n",
       "        text-align: right;\n",
       "    }\n",
       "</style>\n",
       "<table border=\"1\" class=\"dataframe\">\n",
       "  <thead>\n",
       "    <tr style=\"text-align: right;\">\n",
       "      <th></th>\n",
       "      <th>asin</th>\n",
       "      <th>title</th>\n",
       "      <th>num_overall</th>\n",
       "      <th>avg_overall</th>\n",
       "    </tr>\n",
       "  </thead>\n",
       "  <tbody>\n",
       "    <tr>\n",
       "      <th>0</th>\n",
       "      <td>B00000JRSB</td>\n",
       "      <td>Final Fantasy VII</td>\n",
       "      <td>266</td>\n",
       "      <td>4.631579</td>\n",
       "    </tr>\n",
       "    <tr>\n",
       "      <th>1</th>\n",
       "      <td>B00005NZ1G</td>\n",
       "      <td>Halo - Xbox</td>\n",
       "      <td>196</td>\n",
       "      <td>4.448980</td>\n",
       "    </tr>\n",
       "    <tr>\n",
       "      <th>2</th>\n",
       "      <td>B00005O0I2</td>\n",
       "      <td>Grand Theft Auto III</td>\n",
       "      <td>171</td>\n",
       "      <td>4.345029</td>\n",
       "    </tr>\n",
       "    <tr>\n",
       "      <th>3</th>\n",
       "      <td>B00005Q8M0</td>\n",
       "      <td>Super Smash Bros Melee</td>\n",
       "      <td>363</td>\n",
       "      <td>4.052342</td>\n",
       "    </tr>\n",
       "    <tr>\n",
       "      <th>4</th>\n",
       "      <td>B00005TNI6</td>\n",
       "      <td>Final Fantasy X</td>\n",
       "      <td>306</td>\n",
       "      <td>4.437908</td>\n",
       "    </tr>\n",
       "    <tr>\n",
       "      <th>...</th>\n",
       "      <td>...</td>\n",
       "      <td>...</td>\n",
       "      <td>...</td>\n",
       "      <td>...</td>\n",
       "    </tr>\n",
       "    <tr>\n",
       "      <th>261</th>\n",
       "      <td>B01GW3ODBU</td>\n",
       "      <td>The Elder Scrolls V: Skyrim Special Edition - ...</td>\n",
       "      <td>1030</td>\n",
       "      <td>4.659223</td>\n",
       "    </tr>\n",
       "    <tr>\n",
       "      <th>262</th>\n",
       "      <td>B01GW3P9PE</td>\n",
       "      <td>God of War 4 - PS4 [Digital Code]</td>\n",
       "      <td>948</td>\n",
       "      <td>4.721519</td>\n",
       "    </tr>\n",
       "    <tr>\n",
       "      <th>263</th>\n",
       "      <td>B01H1GJ7IQ</td>\n",
       "      <td>PS4 Controller Charger, Y Team Playstation 4 /...</td>\n",
       "      <td>1186</td>\n",
       "      <td>4.658516</td>\n",
       "    </tr>\n",
       "    <tr>\n",
       "      <th>264</th>\n",
       "      <td>B01H482N6E</td>\n",
       "      <td>Nintendo Pokemon Go Plus</td>\n",
       "      <td>1275</td>\n",
       "      <td>3.689412</td>\n",
       "    </tr>\n",
       "    <tr>\n",
       "      <th>265</th>\n",
       "      <td>B01H6GUCCQ</td>\n",
       "      <td>BENGOO G9000 Stereo Gaming Headset for PS4, PC...</td>\n",
       "      <td>1168</td>\n",
       "      <td>4.166096</td>\n",
       "    </tr>\n",
       "  </tbody>\n",
       "</table>\n",
       "<p>266 rows × 4 columns</p>\n",
       "</div>"
      ],
      "text/plain": [
       "           asin                                              title  \\\n",
       "0    B00000JRSB                                  Final Fantasy VII   \n",
       "1    B00005NZ1G                                        Halo - Xbox   \n",
       "2    B00005O0I2                               Grand Theft Auto III   \n",
       "3    B00005Q8M0                             Super Smash Bros Melee   \n",
       "4    B00005TNI6                                    Final Fantasy X   \n",
       "..          ...                                                ...   \n",
       "261  B01GW3ODBU  The Elder Scrolls V: Skyrim Special Edition - ...   \n",
       "262  B01GW3P9PE                  God of War 4 - PS4 [Digital Code]   \n",
       "263  B01H1GJ7IQ  PS4 Controller Charger, Y Team Playstation 4 /...   \n",
       "264  B01H482N6E                           Nintendo Pokemon Go Plus   \n",
       "265  B01H6GUCCQ  BENGOO G9000 Stereo Gaming Headset for PS4, PC...   \n",
       "\n",
       "     num_overall  avg_overall  \n",
       "0            266     4.631579  \n",
       "1            196     4.448980  \n",
       "2            171     4.345029  \n",
       "3            363     4.052342  \n",
       "4            306     4.437908  \n",
       "..           ...          ...  \n",
       "261         1030     4.659223  \n",
       "262          948     4.721519  \n",
       "263         1186     4.658516  \n",
       "264         1275     3.689412  \n",
       "265         1168     4.166096  \n",
       "\n",
       "[266 rows x 4 columns]"
      ]
     },
     "execution_count": 71,
     "metadata": {},
     "output_type": "execute_result"
    }
   ],
   "source": [
    "group_product = num_overall.merge(avg_overall, on='asin')\n",
    "group_product.drop(columns='title_y', inplace=True)\n",
    "group_product.rename(columns={'title_x':'title'}, inplace=True)\n",
    "group_product"
   ]
  },
  {
   "cell_type": "code",
   "execution_count": 72,
   "metadata": {},
   "outputs": [
    {
     "data": {
      "text/html": [
       "<div>\n",
       "<style scoped>\n",
       "    .dataframe tbody tr th:only-of-type {\n",
       "        vertical-align: middle;\n",
       "    }\n",
       "\n",
       "    .dataframe tbody tr th {\n",
       "        vertical-align: top;\n",
       "    }\n",
       "\n",
       "    .dataframe thead th {\n",
       "        text-align: right;\n",
       "    }\n",
       "</style>\n",
       "<table border=\"1\" class=\"dataframe\">\n",
       "  <thead>\n",
       "    <tr style=\"text-align: right;\">\n",
       "      <th></th>\n",
       "      <th>num_overall</th>\n",
       "      <th>avg_overall</th>\n",
       "    </tr>\n",
       "  </thead>\n",
       "  <tbody>\n",
       "    <tr>\n",
       "      <th>count</th>\n",
       "      <td>266.000000</td>\n",
       "      <td>266.000000</td>\n",
       "    </tr>\n",
       "    <tr>\n",
       "      <th>mean</th>\n",
       "      <td>1390.872180</td>\n",
       "      <td>4.205567</td>\n",
       "    </tr>\n",
       "    <tr>\n",
       "      <th>std</th>\n",
       "      <td>727.769665</td>\n",
       "      <td>0.441625</td>\n",
       "    </tr>\n",
       "    <tr>\n",
       "      <th>min</th>\n",
       "      <td>171.000000</td>\n",
       "      <td>2.454221</td>\n",
       "    </tr>\n",
       "    <tr>\n",
       "      <th>25%</th>\n",
       "      <td>948.500000</td>\n",
       "      <td>4.013353</td>\n",
       "    </tr>\n",
       "    <tr>\n",
       "      <th>50%</th>\n",
       "      <td>1188.000000</td>\n",
       "      <td>4.282812</td>\n",
       "    </tr>\n",
       "    <tr>\n",
       "      <th>75%</th>\n",
       "      <td>1633.250000</td>\n",
       "      <td>4.530027</td>\n",
       "    </tr>\n",
       "    <tr>\n",
       "      <th>max</th>\n",
       "      <td>5944.000000</td>\n",
       "      <td>4.798387</td>\n",
       "    </tr>\n",
       "  </tbody>\n",
       "</table>\n",
       "</div>"
      ],
      "text/plain": [
       "       num_overall  avg_overall\n",
       "count   266.000000   266.000000\n",
       "mean   1390.872180     4.205567\n",
       "std     727.769665     0.441625\n",
       "min     171.000000     2.454221\n",
       "25%     948.500000     4.013353\n",
       "50%    1188.000000     4.282812\n",
       "75%    1633.250000     4.530027\n",
       "max    5944.000000     4.798387"
      ]
     },
     "execution_count": 72,
     "metadata": {},
     "output_type": "execute_result"
    }
   ],
   "source": [
    "group_product.describe()"
   ]
  },
  {
   "cell_type": "markdown",
   "metadata": {},
   "source": [
    "Vamos selectionar somente os produtos que tiveram mais de 1390 avaliações, conforme o describe acima."
   ]
  },
  {
   "cell_type": "code",
   "execution_count": 73,
   "metadata": {},
   "outputs": [],
   "source": [
    "group_product = group_product[group_product['num_overall']>=1390].sort_values('avg_overall',ascending=False)"
   ]
  },
  {
   "cell_type": "code",
   "execution_count": 74,
   "metadata": {},
   "outputs": [
    {
     "data": {
      "text/plain": [
       "(94, 4)"
      ]
     },
     "execution_count": 74,
     "metadata": {},
     "output_type": "execute_result"
    }
   ],
   "source": [
    "group_product.shape"
   ]
  },
  {
   "cell_type": "markdown",
   "metadata": {},
   "source": [
    "Recomendação dos produtos mais populares"
   ]
  },
  {
   "cell_type": "code",
   "execution_count": 75,
   "metadata": {},
   "outputs": [
    {
     "data": {
      "text/html": [
       "<div>\n",
       "<style scoped>\n",
       "    .dataframe tbody tr th:only-of-type {\n",
       "        vertical-align: middle;\n",
       "    }\n",
       "\n",
       "    .dataframe tbody tr th {\n",
       "        vertical-align: top;\n",
       "    }\n",
       "\n",
       "    .dataframe thead th {\n",
       "        text-align: right;\n",
       "    }\n",
       "</style>\n",
       "<table border=\"1\" class=\"dataframe\">\n",
       "  <thead>\n",
       "    <tr style=\"text-align: right;\">\n",
       "      <th></th>\n",
       "      <th>asin</th>\n",
       "      <th>title</th>\n",
       "      <th>num_overall</th>\n",
       "      <th>avg_overall</th>\n",
       "    </tr>\n",
       "  </thead>\n",
       "  <tbody>\n",
       "    <tr>\n",
       "      <th>48</th>\n",
       "      <td>B0017KIBAI</td>\n",
       "      <td>Official Nintendo White Classic Gamecube Contr...</td>\n",
       "      <td>1534</td>\n",
       "      <td>4.793351</td>\n",
       "    </tr>\n",
       "    <tr>\n",
       "      <th>153</th>\n",
       "      <td>B00DD0B1R0</td>\n",
       "      <td>Super Smash Bros. - Nintendo 3DS</td>\n",
       "      <td>1662</td>\n",
       "      <td>4.765945</td>\n",
       "    </tr>\n",
       "    <tr>\n",
       "      <th>151</th>\n",
       "      <td>B00DC7G2W8</td>\n",
       "      <td>Mario Kart 8 - Nintendo Wii U</td>\n",
       "      <td>1868</td>\n",
       "      <td>4.756424</td>\n",
       "    </tr>\n",
       "    <tr>\n",
       "      <th>173</th>\n",
       "      <td>B00GODZYNA</td>\n",
       "      <td>Uncharted 4: A Thief's End - PlayStation 4</td>\n",
       "      <td>2094</td>\n",
       "      <td>4.746896</td>\n",
       "    </tr>\n",
       "    <tr>\n",
       "      <th>185</th>\n",
       "      <td>B00JK00S0S</td>\n",
       "      <td>The Last of Us Remastered - PlayStation 4</td>\n",
       "      <td>2152</td>\n",
       "      <td>4.736989</td>\n",
       "    </tr>\n",
       "    <tr>\n",
       "      <th>...</th>\n",
       "      <td>...</td>\n",
       "      <td>...</td>\n",
       "      <td>...</td>\n",
       "      <td>...</td>\n",
       "    </tr>\n",
       "    <tr>\n",
       "      <th>79</th>\n",
       "      <td>B004IK24MU</td>\n",
       "      <td>Insten Dual Remote Charging Dock Charger Stati...</td>\n",
       "      <td>1452</td>\n",
       "      <td>3.393939</td>\n",
       "    </tr>\n",
       "    <tr>\n",
       "      <th>47</th>\n",
       "      <td>B00178630A</td>\n",
       "      <td>Diablo III</td>\n",
       "      <td>2480</td>\n",
       "      <td>3.296371</td>\n",
       "    </tr>\n",
       "    <tr>\n",
       "      <th>76</th>\n",
       "      <td>B0042J7I3C</td>\n",
       "      <td>Insten Headset Headphone with Mic Compatible w...</td>\n",
       "      <td>1556</td>\n",
       "      <td>3.207584</td>\n",
       "    </tr>\n",
       "    <tr>\n",
       "      <th>104</th>\n",
       "      <td>B007MJSZDQ</td>\n",
       "      <td>Matney 2 Pack Xbox 360 Rechargeable Battery + ...</td>\n",
       "      <td>1424</td>\n",
       "      <td>3.188904</td>\n",
       "    </tr>\n",
       "    <tr>\n",
       "      <th>103</th>\n",
       "      <td>B007LQG9A6</td>\n",
       "      <td>Dragonpad Wired USB Controller (Black) for PC ...</td>\n",
       "      <td>1398</td>\n",
       "      <td>3.099428</td>\n",
       "    </tr>\n",
       "  </tbody>\n",
       "</table>\n",
       "<p>94 rows × 4 columns</p>\n",
       "</div>"
      ],
      "text/plain": [
       "           asin                                              title  \\\n",
       "48   B0017KIBAI  Official Nintendo White Classic Gamecube Contr...   \n",
       "153  B00DD0B1R0                   Super Smash Bros. - Nintendo 3DS   \n",
       "151  B00DC7G2W8                      Mario Kart 8 - Nintendo Wii U   \n",
       "173  B00GODZYNA         Uncharted 4: A Thief's End - PlayStation 4   \n",
       "185  B00JK00S0S          The Last of Us Remastered - PlayStation 4   \n",
       "..          ...                                                ...   \n",
       "79   B004IK24MU  Insten Dual Remote Charging Dock Charger Stati...   \n",
       "47   B00178630A                                         Diablo III   \n",
       "76   B0042J7I3C  Insten Headset Headphone with Mic Compatible w...   \n",
       "104  B007MJSZDQ  Matney 2 Pack Xbox 360 Rechargeable Battery + ...   \n",
       "103  B007LQG9A6  Dragonpad Wired USB Controller (Black) for PC ...   \n",
       "\n",
       "     num_overall  avg_overall  \n",
       "48          1534     4.793351  \n",
       "153         1662     4.765945  \n",
       "151         1868     4.756424  \n",
       "173         2094     4.746896  \n",
       "185         2152     4.736989  \n",
       "..           ...          ...  \n",
       "79          1452     3.393939  \n",
       "47          2480     3.296371  \n",
       "76          1556     3.207584  \n",
       "104         1424     3.188904  \n",
       "103         1398     3.099428  \n",
       "\n",
       "[94 rows x 4 columns]"
      ]
     },
     "execution_count": 75,
     "metadata": {},
     "output_type": "execute_result"
    }
   ],
   "source": [
    "group_product"
   ]
  },
  {
   "cell_type": "code",
   "execution_count": 82,
   "metadata": {},
   "outputs": [
    {
     "data": {
      "text/plain": [
       "1     259153\n",
       "2      35452\n",
       "3       7614\n",
       "4       2088\n",
       "5        744\n",
       "6        319\n",
       "7        148\n",
       "8         79\n",
       "9         57\n",
       "10        28\n",
       "11        19\n",
       "12         8\n",
       "13         6\n",
       "16         4\n",
       "14         3\n",
       "15         3\n",
       "17         1\n",
       "32         1\n",
       "Name: overall, dtype: int64"
      ]
     },
     "execution_count": 82,
     "metadata": {},
     "output_type": "execute_result"
    }
   ],
   "source": [
    "group_rewier = df_recomendacao.groupby(by=['reviewerID', 'reviewerName']).agg({\n",
    "    'overall':'count'\n",
    "}) \\\n",
    "    .reset_index() \\\n",
    "    .sort_values(by='overall', ascending=False)\n",
    "\n",
    "group_rewier.overall.value_counts()"
   ]
  },
  {
   "cell_type": "markdown",
   "metadata": {},
   "source": [
    "Vamos pegar os usuários que avaliaram 5 vezes ou mais."
   ]
  },
  {
   "cell_type": "code",
   "execution_count": 83,
   "metadata": {},
   "outputs": [
    {
     "data": {
      "text/plain": [
       "reviewerID\n",
       "A0003214FKMKJE0PCW3D    False\n",
       "A0005622E33Y7RCVKKVN    False\n",
       "A00065507CNSR8UHQFCK    False\n",
       "A0011756FPL8K71Q5TAQ    False\n",
       "A001932810S6RCIFHJ3V    False\n",
       "                        ...  \n",
       "AZZWWSMIDFU6S           False\n",
       "AZZX40NRMUDDQ           False\n",
       "AZZX6JJHIO4UZ           False\n",
       "AZZY2HR1LLRFV           False\n",
       "AZZYR0PRM4RBT           False\n",
       "Name: overall, Length: 305443, dtype: bool"
      ]
     },
     "execution_count": 83,
     "metadata": {},
     "output_type": "execute_result"
    }
   ],
   "source": [
    "x = df_recomendacao.groupby('reviewerID').count()['overall'] > 5\n",
    "x"
   ]
  },
  {
   "cell_type": "code",
   "execution_count": 85,
   "metadata": {},
   "outputs": [],
   "source": [
    "top_users = x[x].index"
   ]
  },
  {
   "cell_type": "code",
   "execution_count": 86,
   "metadata": {},
   "outputs": [
    {
     "data": {
      "text/plain": [
       "(686,)"
      ]
     },
     "execution_count": 86,
     "metadata": {},
     "output_type": "execute_result"
    }
   ],
   "source": [
    "top_users.shape"
   ]
  },
  {
   "cell_type": "code",
   "execution_count": 89,
   "metadata": {},
   "outputs": [
    {
     "data": {
      "text/html": [
       "<div>\n",
       "<style scoped>\n",
       "    .dataframe tbody tr th:only-of-type {\n",
       "        vertical-align: middle;\n",
       "    }\n",
       "\n",
       "    .dataframe tbody tr th {\n",
       "        vertical-align: top;\n",
       "    }\n",
       "\n",
       "    .dataframe thead th {\n",
       "        text-align: right;\n",
       "    }\n",
       "</style>\n",
       "<table border=\"1\" class=\"dataframe\">\n",
       "  <thead>\n",
       "    <tr style=\"text-align: right;\">\n",
       "      <th></th>\n",
       "      <th>overall</th>\n",
       "      <th>reviewerID</th>\n",
       "      <th>asin</th>\n",
       "      <th>reviewerName</th>\n",
       "      <th>reviewText</th>\n",
       "      <th>summary</th>\n",
       "      <th>unixReviewTime</th>\n",
       "      <th>verified</th>\n",
       "      <th>title</th>\n",
       "      <th>also_buy</th>\n",
       "      <th>brand</th>\n",
       "      <th>also_view</th>\n",
       "      <th>main_cat</th>\n",
       "    </tr>\n",
       "  </thead>\n",
       "  <tbody>\n",
       "    <tr>\n",
       "      <th>16</th>\n",
       "      <td>4</td>\n",
       "      <td>A1H6IAYYAXTCE4</td>\n",
       "      <td>B00000JRSB</td>\n",
       "      <td>Hasasuki</td>\n",
       "      <td>I never got the chance to play this growing up...</td>\n",
       "      <td>Final Fantasy VII</td>\n",
       "      <td>1499212800</td>\n",
       "      <td>1.0</td>\n",
       "      <td>Final Fantasy VII</td>\n",
       "      <td>[B0000296O5, B00004Y57G, B00002R28C, B0045L3SN...</td>\n",
       "      <td>SquareSoft</td>\n",
       "      <td>[B00004Y57G, B00004TC6E, B00ZS80PC2, B0000296O...</td>\n",
       "      <td>Video Games</td>\n",
       "    </tr>\n",
       "    <tr>\n",
       "      <th>31</th>\n",
       "      <td>4</td>\n",
       "      <td>A14WV4ECH494RC</td>\n",
       "      <td>B00000JRSB</td>\n",
       "      <td>Jammie W.</td>\n",
       "      <td>Good game to the series</td>\n",
       "      <td>Four Stars</td>\n",
       "      <td>1489276800</td>\n",
       "      <td>1.0</td>\n",
       "      <td>Final Fantasy VII</td>\n",
       "      <td>[B0000296O5, B00004Y57G, B00002R28C, B0045L3SN...</td>\n",
       "      <td>SquareSoft</td>\n",
       "      <td>[B00004Y57G, B00004TC6E, B00ZS80PC2, B0000296O...</td>\n",
       "      <td>Video Games</td>\n",
       "    </tr>\n",
       "    <tr>\n",
       "      <th>37</th>\n",
       "      <td>5</td>\n",
       "      <td>ANMPFSIJE5N5O</td>\n",
       "      <td>B00000JRSB</td>\n",
       "      <td>RPM</td>\n",
       "      <td>love this game , a little disappointed i didn'...</td>\n",
       "      <td>love this game</td>\n",
       "      <td>1481068800</td>\n",
       "      <td>1.0</td>\n",
       "      <td>Final Fantasy VII</td>\n",
       "      <td>[B0000296O5, B00004Y57G, B00002R28C, B0045L3SN...</td>\n",
       "      <td>SquareSoft</td>\n",
       "      <td>[B00004Y57G, B00004TC6E, B00ZS80PC2, B0000296O...</td>\n",
       "      <td>Video Games</td>\n",
       "    </tr>\n",
       "    <tr>\n",
       "      <th>55</th>\n",
       "      <td>5</td>\n",
       "      <td>A2GM5B6DK9KP22</td>\n",
       "      <td>B00000JRSB</td>\n",
       "      <td>Junkhog</td>\n",
       "      <td>Perfect</td>\n",
       "      <td>Five Stars</td>\n",
       "      <td>1464307200</td>\n",
       "      <td>1.0</td>\n",
       "      <td>Final Fantasy VII</td>\n",
       "      <td>[B0000296O5, B00004Y57G, B00002R28C, B0045L3SN...</td>\n",
       "      <td>SquareSoft</td>\n",
       "      <td>[B00004Y57G, B00004TC6E, B00ZS80PC2, B0000296O...</td>\n",
       "      <td>Video Games</td>\n",
       "    </tr>\n",
       "    <tr>\n",
       "      <th>184</th>\n",
       "      <td>5</td>\n",
       "      <td>A15PUBCS4N4G60</td>\n",
       "      <td>B00000JRSB</td>\n",
       "      <td>buckeyede06</td>\n",
       "      <td>This is just one of those classic games to fin...</td>\n",
       "      <td>Amazing game</td>\n",
       "      <td>1393113600</td>\n",
       "      <td>1.0</td>\n",
       "      <td>Final Fantasy VII</td>\n",
       "      <td>[B0000296O5, B00004Y57G, B00002R28C, B0045L3SN...</td>\n",
       "      <td>SquareSoft</td>\n",
       "      <td>[B00004Y57G, B00004TC6E, B00ZS80PC2, B0000296O...</td>\n",
       "      <td>Video Games</td>\n",
       "    </tr>\n",
       "    <tr>\n",
       "      <th>...</th>\n",
       "      <td>...</td>\n",
       "      <td>...</td>\n",
       "      <td>...</td>\n",
       "      <td>...</td>\n",
       "      <td>...</td>\n",
       "      <td>...</td>\n",
       "      <td>...</td>\n",
       "      <td>...</td>\n",
       "      <td>...</td>\n",
       "      <td>...</td>\n",
       "      <td>...</td>\n",
       "      <td>...</td>\n",
       "      <td>...</td>\n",
       "    </tr>\n",
       "    <tr>\n",
       "      <th>449554</th>\n",
       "      <td>5</td>\n",
       "      <td>A15JPYV0L19RF</td>\n",
       "      <td>B01GW3ODBU</td>\n",
       "      <td>RJ the Great Cat Lover</td>\n",
       "      <td>Graphics are great as are the load times.\\nNot...</td>\n",
       "      <td>Skyrim SE</td>\n",
       "      <td>1480377600</td>\n",
       "      <td>1.0</td>\n",
       "      <td>The Elder Scrolls V: Skyrim Special Edition - ...</td>\n",
       "      <td>[B004RMK4BC, B004RMK4P8, B06XCTDL52, B00GAC1D2...</td>\n",
       "      <td>Bethesda</td>\n",
       "      <td>[B01J23D1W4, B01H0TJM70, B07L9NVPTY, B07BZZX97...</td>\n",
       "      <td>Video Games</td>\n",
       "    </tr>\n",
       "    <tr>\n",
       "      <th>449659</th>\n",
       "      <td>5</td>\n",
       "      <td>AOYGPHW4YMYEO</td>\n",
       "      <td>B01GW3ODBU</td>\n",
       "      <td>Shaide</td>\n",
       "      <td>If you have Skyrim on another console, there's...</td>\n",
       "      <td>one of the best RPGs ever released</td>\n",
       "      <td>1478476800</td>\n",
       "      <td>1.0</td>\n",
       "      <td>The Elder Scrolls V: Skyrim Special Edition - ...</td>\n",
       "      <td>[B004RMK4BC, B004RMK4P8, B06XCTDL52, B00GAC1D2...</td>\n",
       "      <td>Bethesda</td>\n",
       "      <td>[B01J23D1W4, B01H0TJM70, B07L9NVPTY, B07BZZX97...</td>\n",
       "      <td>Video Games</td>\n",
       "    </tr>\n",
       "    <tr>\n",
       "      <th>449683</th>\n",
       "      <td>5</td>\n",
       "      <td>A1PZGUWM9C3W4H</td>\n",
       "      <td>B01GW3ODBU</td>\n",
       "      <td>Stephanie</td>\n",
       "      <td>just like the original :)</td>\n",
       "      <td>Five Stars</td>\n",
       "      <td>1478044800</td>\n",
       "      <td>1.0</td>\n",
       "      <td>The Elder Scrolls V: Skyrim Special Edition - ...</td>\n",
       "      <td>[B004RMK4BC, B004RMK4P8, B06XCTDL52, B00GAC1D2...</td>\n",
       "      <td>Bethesda</td>\n",
       "      <td>[B01J23D1W4, B01H0TJM70, B07L9NVPTY, B07BZZX97...</td>\n",
       "      <td>Video Games</td>\n",
       "    </tr>\n",
       "    <tr>\n",
       "      <th>451881</th>\n",
       "      <td>5</td>\n",
       "      <td>A3SIZIW9GU2Z3S</td>\n",
       "      <td>B01H482N6E</td>\n",
       "      <td>Zx10</td>\n",
       "      <td>Really enjoy using the plus, the software/app ...</td>\n",
       "      <td>Awesome little blue tooth</td>\n",
       "      <td>1498608000</td>\n",
       "      <td>1.0</td>\n",
       "      <td>Nintendo Pokemon Go Plus</td>\n",
       "      <td>[B07C7K7JGW, B07HNC7JB9, B07C75329M, B07C7L9D9...</td>\n",
       "      <td>Nintendo</td>\n",
       "      <td>[B071K63M65, B06Y5BTX8L, B071R3P45V, B07C1MCH3...</td>\n",
       "      <td>Video Games</td>\n",
       "    </tr>\n",
       "    <tr>\n",
       "      <th>451929</th>\n",
       "      <td>5</td>\n",
       "      <td>A2NC6HBK3NM1GC</td>\n",
       "      <td>B01H482N6E</td>\n",
       "      <td>Oiharau</td>\n",
       "      <td>great but it eats up you pokeballs</td>\n",
       "      <td>Five Stars</td>\n",
       "      <td>1496707200</td>\n",
       "      <td>1.0</td>\n",
       "      <td>Nintendo Pokemon Go Plus</td>\n",
       "      <td>[B07C7K7JGW, B07HNC7JB9, B07C75329M, B07C7L9D9...</td>\n",
       "      <td>Nintendo</td>\n",
       "      <td>[B071K63M65, B06Y5BTX8L, B071R3P45V, B07C1MCH3...</td>\n",
       "      <td>Video Games</td>\n",
       "    </tr>\n",
       "  </tbody>\n",
       "</table>\n",
       "<p>5035 rows × 13 columns</p>\n",
       "</div>"
      ],
      "text/plain": [
       "        overall      reviewerID        asin            reviewerName  \\\n",
       "16            4  A1H6IAYYAXTCE4  B00000JRSB                Hasasuki   \n",
       "31            4  A14WV4ECH494RC  B00000JRSB               Jammie W.   \n",
       "37            5   ANMPFSIJE5N5O  B00000JRSB                     RPM   \n",
       "55            5  A2GM5B6DK9KP22  B00000JRSB                 Junkhog   \n",
       "184           5  A15PUBCS4N4G60  B00000JRSB             buckeyede06   \n",
       "...         ...             ...         ...                     ...   \n",
       "449554        5   A15JPYV0L19RF  B01GW3ODBU  RJ the Great Cat Lover   \n",
       "449659        5   AOYGPHW4YMYEO  B01GW3ODBU                  Shaide   \n",
       "449683        5  A1PZGUWM9C3W4H  B01GW3ODBU               Stephanie   \n",
       "451881        5  A3SIZIW9GU2Z3S  B01H482N6E                    Zx10   \n",
       "451929        5  A2NC6HBK3NM1GC  B01H482N6E                 Oiharau   \n",
       "\n",
       "                                               reviewText  \\\n",
       "16      I never got the chance to play this growing up...   \n",
       "31                                Good game to the series   \n",
       "37      love this game , a little disappointed i didn'...   \n",
       "55                                                Perfect   \n",
       "184     This is just one of those classic games to fin...   \n",
       "...                                                   ...   \n",
       "449554  Graphics are great as are the load times.\\nNot...   \n",
       "449659  If you have Skyrim on another console, there's...   \n",
       "449683                          just like the original :)   \n",
       "451881  Really enjoy using the plus, the software/app ...   \n",
       "451929                 great but it eats up you pokeballs   \n",
       "\n",
       "                                   summary  unixReviewTime  verified  \\\n",
       "16                       Final Fantasy VII      1499212800       1.0   \n",
       "31                              Four Stars      1489276800       1.0   \n",
       "37                          love this game      1481068800       1.0   \n",
       "55                              Five Stars      1464307200       1.0   \n",
       "184                           Amazing game      1393113600       1.0   \n",
       "...                                    ...             ...       ...   \n",
       "449554                           Skyrim SE      1480377600       1.0   \n",
       "449659  one of the best RPGs ever released      1478476800       1.0   \n",
       "449683                          Five Stars      1478044800       1.0   \n",
       "451881           Awesome little blue tooth      1498608000       1.0   \n",
       "451929                          Five Stars      1496707200       1.0   \n",
       "\n",
       "                                                    title  \\\n",
       "16                                      Final Fantasy VII   \n",
       "31                                      Final Fantasy VII   \n",
       "37                                      Final Fantasy VII   \n",
       "55                                      Final Fantasy VII   \n",
       "184                                     Final Fantasy VII   \n",
       "...                                                   ...   \n",
       "449554  The Elder Scrolls V: Skyrim Special Edition - ...   \n",
       "449659  The Elder Scrolls V: Skyrim Special Edition - ...   \n",
       "449683  The Elder Scrolls V: Skyrim Special Edition - ...   \n",
       "451881                           Nintendo Pokemon Go Plus   \n",
       "451929                           Nintendo Pokemon Go Plus   \n",
       "\n",
       "                                                 also_buy            brand  \\\n",
       "16      [B0000296O5, B00004Y57G, B00002R28C, B0045L3SN...       SquareSoft   \n",
       "31      [B0000296O5, B00004Y57G, B00002R28C, B0045L3SN...       SquareSoft   \n",
       "37      [B0000296O5, B00004Y57G, B00002R28C, B0045L3SN...       SquareSoft   \n",
       "55      [B0000296O5, B00004Y57G, B00002R28C, B0045L3SN...       SquareSoft   \n",
       "184     [B0000296O5, B00004Y57G, B00002R28C, B0045L3SN...       SquareSoft   \n",
       "...                                                   ...              ...   \n",
       "449554  [B004RMK4BC, B004RMK4P8, B06XCTDL52, B00GAC1D2...         Bethesda   \n",
       "449659  [B004RMK4BC, B004RMK4P8, B06XCTDL52, B00GAC1D2...         Bethesda   \n",
       "449683  [B004RMK4BC, B004RMK4P8, B06XCTDL52, B00GAC1D2...         Bethesda   \n",
       "451881  [B07C7K7JGW, B07HNC7JB9, B07C75329M, B07C7L9D9...         Nintendo   \n",
       "451929  [B07C7K7JGW, B07HNC7JB9, B07C75329M, B07C7L9D9...         Nintendo   \n",
       "\n",
       "                                                also_view     main_cat  \n",
       "16      [B00004Y57G, B00004TC6E, B00ZS80PC2, B0000296O...  Video Games  \n",
       "31      [B00004Y57G, B00004TC6E, B00ZS80PC2, B0000296O...  Video Games  \n",
       "37      [B00004Y57G, B00004TC6E, B00ZS80PC2, B0000296O...  Video Games  \n",
       "55      [B00004Y57G, B00004TC6E, B00ZS80PC2, B0000296O...  Video Games  \n",
       "184     [B00004Y57G, B00004TC6E, B00ZS80PC2, B0000296O...  Video Games  \n",
       "...                                                   ...          ...  \n",
       "449554  [B01J23D1W4, B01H0TJM70, B07L9NVPTY, B07BZZX97...  Video Games  \n",
       "449659  [B01J23D1W4, B01H0TJM70, B07L9NVPTY, B07BZZX97...  Video Games  \n",
       "449683  [B01J23D1W4, B01H0TJM70, B07L9NVPTY, B07BZZX97...  Video Games  \n",
       "451881  [B071K63M65, B06Y5BTX8L, B071R3P45V, B07C1MCH3...  Video Games  \n",
       "451929  [B071K63M65, B06Y5BTX8L, B071R3P45V, B07C1MCH3...  Video Games  \n",
       "\n",
       "[5035 rows x 13 columns]"
      ]
     },
     "execution_count": 89,
     "metadata": {},
     "output_type": "execute_result"
    }
   ],
   "source": [
    "filtered_overall = df_recomendacao[df_recomendacao['reviewerID'].isin(top_users)]\n",
    "filtered_overall"
   ]
  },
  {
   "cell_type": "code",
   "execution_count": 96,
   "metadata": {},
   "outputs": [
    {
     "name": "stderr",
     "output_type": "stream",
     "text": [
      "C:\\Users\\IANROS~1\\AppData\\Local\\Temp/ipykernel_4000/2112396580.py:2: FutureWarning: Dropping of nuisance columns in DataFrame reductions (with 'numeric_only=None') is deprecated; in a future version this will raise TypeError.  Select only valid columns before calling the reduction.\n",
      "  filtered_asin.mean()\n"
     ]
    },
    {
     "data": {
      "text/plain": [
       "overall    19.217557\n",
       "dtype: float64"
      ]
     },
     "execution_count": 96,
     "metadata": {},
     "output_type": "execute_result"
    }
   ],
   "source": [
    "filtered_asin = filtered_overall.groupby(by=['asin', 'title']).agg({'overall':'count'}).reset_index().sort_values(by='overall', ascending=False)\n",
    "filtered_asin.mean()"
   ]
  },
  {
   "cell_type": "code",
   "execution_count": 111,
   "metadata": {},
   "outputs": [
    {
     "data": {
      "text/plain": [
       "asin\n",
       "B00000JRSB    False\n",
       "B00005NZ1G    False\n",
       "B00005O0I2    False\n",
       "B00005Q8M0    False\n",
       "B00005TNI6    False\n",
       "              ...  \n",
       "B01F84ZHMI    False\n",
       "B01FZ3BR5S    False\n",
       "B01GW3ODBU     True\n",
       "B01GW3P9PE    False\n",
       "B01H482N6E    False\n",
       "Name: overall, Length: 262, dtype: bool"
      ]
     },
     "execution_count": 111,
     "metadata": {},
     "output_type": "execute_result"
    }
   ],
   "source": [
    "y = filtered_overall.groupby(by=['asin']).count()['overall'] >= 20\n",
    "y"
   ]
  },
  {
   "cell_type": "code",
   "execution_count": 112,
   "metadata": {},
   "outputs": [
    {
     "data": {
      "text/plain": [
       "Index(['B0009VXBAQ', 'B000B9RI14', 'B000FQ2D5E', 'B000FQ2DTA', 'B000FQ9R4E',\n",
       "       'B000P46NMA', 'B000P46NMK', 'B000VTQ3LU', 'B000X2RKOO', 'B000ZK7ZOE',\n",
       "       ...\n",
       "       'B00WTI3JPE', 'B00YQ2KCWO', 'B00YQM1PNY', 'B00Z7V9P8K', 'B00ZB7W4QU',\n",
       "       'B00ZQB28XK', 'B00ZQC73O8', 'B01C93CWSI', 'B01C93CWU6', 'B01GW3ODBU'],\n",
       "      dtype='object', name='asin', length=102)"
      ]
     },
     "execution_count": 112,
     "metadata": {},
     "output_type": "execute_result"
    }
   ],
   "source": [
    "famous_products = y[y].index\n",
    "famous_products"
   ]
  },
  {
   "cell_type": "code",
   "execution_count": 113,
   "metadata": {},
   "outputs": [
    {
     "data": {
      "text/plain": [
       "(102,)"
      ]
     },
     "execution_count": 113,
     "metadata": {},
     "output_type": "execute_result"
    }
   ],
   "source": [
    "famous_products.shape"
   ]
  },
  {
   "cell_type": "code",
   "execution_count": 115,
   "metadata": {},
   "outputs": [],
   "source": [
    "final_overall = filtered_overall[filtered_overall['asin'].isin(famous_products)]"
   ]
  },
  {
   "cell_type": "code",
   "execution_count": 117,
   "metadata": {},
   "outputs": [
    {
     "data": {
      "text/html": [
       "<div>\n",
       "<style scoped>\n",
       "    .dataframe tbody tr th:only-of-type {\n",
       "        vertical-align: middle;\n",
       "    }\n",
       "\n",
       "    .dataframe tbody tr th {\n",
       "        vertical-align: top;\n",
       "    }\n",
       "\n",
       "    .dataframe thead th {\n",
       "        text-align: right;\n",
       "    }\n",
       "</style>\n",
       "<table border=\"1\" class=\"dataframe\">\n",
       "  <thead>\n",
       "    <tr style=\"text-align: right;\">\n",
       "      <th></th>\n",
       "      <th>overall</th>\n",
       "      <th>reviewerID</th>\n",
       "      <th>asin</th>\n",
       "      <th>reviewerName</th>\n",
       "      <th>reviewText</th>\n",
       "      <th>summary</th>\n",
       "      <th>unixReviewTime</th>\n",
       "      <th>verified</th>\n",
       "      <th>title</th>\n",
       "      <th>also_buy</th>\n",
       "      <th>brand</th>\n",
       "      <th>also_view</th>\n",
       "      <th>main_cat</th>\n",
       "    </tr>\n",
       "  </thead>\n",
       "  <tbody>\n",
       "    <tr>\n",
       "      <th>14546</th>\n",
       "      <td>5</td>\n",
       "      <td>A3E3NTXQTBYI5</td>\n",
       "      <td>B0009VXBAQ</td>\n",
       "      <td>Regio Sassi Neto</td>\n",
       "      <td>Very good</td>\n",
       "      <td>Five Stars</td>\n",
       "      <td>1500595200</td>\n",
       "      <td>1.0</td>\n",
       "      <td>Wii</td>\n",
       "      <td>[B0017Q4DGI, B001GIUWX0, B004WLRR4K, B0186G8X1...</td>\n",
       "      <td>Nintendo</td>\n",
       "      <td>[B07G7G55W4, B07BZS1566, B00NKS059K, B009M72E5...</td>\n",
       "      <td>Video Games</td>\n",
       "    </tr>\n",
       "  </tbody>\n",
       "</table>\n",
       "</div>"
      ],
      "text/plain": [
       "       overall     reviewerID        asin      reviewerName reviewText  \\\n",
       "14546        5  A3E3NTXQTBYI5  B0009VXBAQ  Regio Sassi Neto  Very good   \n",
       "\n",
       "          summary  unixReviewTime  verified title  \\\n",
       "14546  Five Stars      1500595200       1.0   Wii   \n",
       "\n",
       "                                                also_buy     brand  \\\n",
       "14546  [B0017Q4DGI, B001GIUWX0, B004WLRR4K, B0186G8X1...  Nintendo   \n",
       "\n",
       "                                               also_view     main_cat  \n",
       "14546  [B07G7G55W4, B07BZS1566, B00NKS059K, B009M72E5...  Video Games  "
      ]
     },
     "execution_count": 117,
     "metadata": {},
     "output_type": "execute_result"
    }
   ],
   "source": [
    "final_overall.head(1)"
   ]
  },
  {
   "cell_type": "code",
   "execution_count": 118,
   "metadata": {},
   "outputs": [
    {
     "data": {
      "text/html": [
       "<div>\n",
       "<style scoped>\n",
       "    .dataframe tbody tr th:only-of-type {\n",
       "        vertical-align: middle;\n",
       "    }\n",
       "\n",
       "    .dataframe tbody tr th {\n",
       "        vertical-align: top;\n",
       "    }\n",
       "\n",
       "    .dataframe thead th {\n",
       "        text-align: right;\n",
       "    }\n",
       "</style>\n",
       "<table border=\"1\" class=\"dataframe\">\n",
       "  <thead>\n",
       "    <tr style=\"text-align: right;\">\n",
       "      <th>reviewerID</th>\n",
       "      <th>A0743345UFTOA4V1Z7W</th>\n",
       "      <th>A103KKI1Y4TFNQ</th>\n",
       "      <th>A10DZNGD2T2SP3</th>\n",
       "      <th>A10HST9M5Z7CYR</th>\n",
       "      <th>A10O2365KD86L2</th>\n",
       "      <th>A10T653BS1I4IN</th>\n",
       "      <th>A10YGP23KD5P67</th>\n",
       "      <th>A1120M9ZK2U3FQ</th>\n",
       "      <th>A1167RGXBQY7JP</th>\n",
       "      <th>A11F5CNC4KJB3Q</th>\n",
       "      <th>...</th>\n",
       "      <th>AXCCFMZVV0CHI</th>\n",
       "      <th>AXHR94EVPADQG</th>\n",
       "      <th>AXL7BHUXQCUJ2</th>\n",
       "      <th>AXRUHJ2SDGLMQ</th>\n",
       "      <th>AY57N4GD6TVDP</th>\n",
       "      <th>AYGVHDE350TVX</th>\n",
       "      <th>AYP0YPLSP9ISM</th>\n",
       "      <th>AYXFNO4OPWKBH</th>\n",
       "      <th>AZ2D9N3CSCAJ2</th>\n",
       "      <th>AZYWRH9CQSB2Q</th>\n",
       "    </tr>\n",
       "    <tr>\n",
       "      <th>asin</th>\n",
       "      <th></th>\n",
       "      <th></th>\n",
       "      <th></th>\n",
       "      <th></th>\n",
       "      <th></th>\n",
       "      <th></th>\n",
       "      <th></th>\n",
       "      <th></th>\n",
       "      <th></th>\n",
       "      <th></th>\n",
       "      <th></th>\n",
       "      <th></th>\n",
       "      <th></th>\n",
       "      <th></th>\n",
       "      <th></th>\n",
       "      <th></th>\n",
       "      <th></th>\n",
       "      <th></th>\n",
       "      <th></th>\n",
       "      <th></th>\n",
       "      <th></th>\n",
       "    </tr>\n",
       "  </thead>\n",
       "  <tbody>\n",
       "    <tr>\n",
       "      <th>B0009VXBAQ</th>\n",
       "      <td>NaN</td>\n",
       "      <td>NaN</td>\n",
       "      <td>NaN</td>\n",
       "      <td>NaN</td>\n",
       "      <td>NaN</td>\n",
       "      <td>NaN</td>\n",
       "      <td>NaN</td>\n",
       "      <td>NaN</td>\n",
       "      <td>NaN</td>\n",
       "      <td>NaN</td>\n",
       "      <td>...</td>\n",
       "      <td>NaN</td>\n",
       "      <td>NaN</td>\n",
       "      <td>NaN</td>\n",
       "      <td>NaN</td>\n",
       "      <td>NaN</td>\n",
       "      <td>NaN</td>\n",
       "      <td>NaN</td>\n",
       "      <td>NaN</td>\n",
       "      <td>NaN</td>\n",
       "      <td>NaN</td>\n",
       "    </tr>\n",
       "    <tr>\n",
       "      <th>B000B9RI14</th>\n",
       "      <td>NaN</td>\n",
       "      <td>NaN</td>\n",
       "      <td>NaN</td>\n",
       "      <td>NaN</td>\n",
       "      <td>NaN</td>\n",
       "      <td>NaN</td>\n",
       "      <td>NaN</td>\n",
       "      <td>NaN</td>\n",
       "      <td>NaN</td>\n",
       "      <td>NaN</td>\n",
       "      <td>...</td>\n",
       "      <td>NaN</td>\n",
       "      <td>NaN</td>\n",
       "      <td>NaN</td>\n",
       "      <td>NaN</td>\n",
       "      <td>NaN</td>\n",
       "      <td>NaN</td>\n",
       "      <td>NaN</td>\n",
       "      <td>NaN</td>\n",
       "      <td>5.0</td>\n",
       "      <td>NaN</td>\n",
       "    </tr>\n",
       "    <tr>\n",
       "      <th>B000FQ2D5E</th>\n",
       "      <td>NaN</td>\n",
       "      <td>NaN</td>\n",
       "      <td>NaN</td>\n",
       "      <td>NaN</td>\n",
       "      <td>NaN</td>\n",
       "      <td>NaN</td>\n",
       "      <td>NaN</td>\n",
       "      <td>NaN</td>\n",
       "      <td>NaN</td>\n",
       "      <td>NaN</td>\n",
       "      <td>...</td>\n",
       "      <td>NaN</td>\n",
       "      <td>NaN</td>\n",
       "      <td>NaN</td>\n",
       "      <td>NaN</td>\n",
       "      <td>NaN</td>\n",
       "      <td>NaN</td>\n",
       "      <td>NaN</td>\n",
       "      <td>NaN</td>\n",
       "      <td>NaN</td>\n",
       "      <td>NaN</td>\n",
       "    </tr>\n",
       "    <tr>\n",
       "      <th>B000FQ2DTA</th>\n",
       "      <td>NaN</td>\n",
       "      <td>NaN</td>\n",
       "      <td>NaN</td>\n",
       "      <td>NaN</td>\n",
       "      <td>NaN</td>\n",
       "      <td>NaN</td>\n",
       "      <td>NaN</td>\n",
       "      <td>NaN</td>\n",
       "      <td>NaN</td>\n",
       "      <td>NaN</td>\n",
       "      <td>...</td>\n",
       "      <td>NaN</td>\n",
       "      <td>NaN</td>\n",
       "      <td>NaN</td>\n",
       "      <td>NaN</td>\n",
       "      <td>NaN</td>\n",
       "      <td>NaN</td>\n",
       "      <td>NaN</td>\n",
       "      <td>NaN</td>\n",
       "      <td>NaN</td>\n",
       "      <td>NaN</td>\n",
       "    </tr>\n",
       "    <tr>\n",
       "      <th>B000FQ9R4E</th>\n",
       "      <td>NaN</td>\n",
       "      <td>NaN</td>\n",
       "      <td>NaN</td>\n",
       "      <td>NaN</td>\n",
       "      <td>NaN</td>\n",
       "      <td>NaN</td>\n",
       "      <td>NaN</td>\n",
       "      <td>NaN</td>\n",
       "      <td>NaN</td>\n",
       "      <td>NaN</td>\n",
       "      <td>...</td>\n",
       "      <td>NaN</td>\n",
       "      <td>NaN</td>\n",
       "      <td>NaN</td>\n",
       "      <td>NaN</td>\n",
       "      <td>NaN</td>\n",
       "      <td>NaN</td>\n",
       "      <td>NaN</td>\n",
       "      <td>NaN</td>\n",
       "      <td>NaN</td>\n",
       "      <td>NaN</td>\n",
       "    </tr>\n",
       "    <tr>\n",
       "      <th>...</th>\n",
       "      <td>...</td>\n",
       "      <td>...</td>\n",
       "      <td>...</td>\n",
       "      <td>...</td>\n",
       "      <td>...</td>\n",
       "      <td>...</td>\n",
       "      <td>...</td>\n",
       "      <td>...</td>\n",
       "      <td>...</td>\n",
       "      <td>...</td>\n",
       "      <td>...</td>\n",
       "      <td>...</td>\n",
       "      <td>...</td>\n",
       "      <td>...</td>\n",
       "      <td>...</td>\n",
       "      <td>...</td>\n",
       "      <td>...</td>\n",
       "      <td>...</td>\n",
       "      <td>...</td>\n",
       "      <td>...</td>\n",
       "      <td>...</td>\n",
       "    </tr>\n",
       "    <tr>\n",
       "      <th>B00ZQB28XK</th>\n",
       "      <td>NaN</td>\n",
       "      <td>NaN</td>\n",
       "      <td>NaN</td>\n",
       "      <td>NaN</td>\n",
       "      <td>NaN</td>\n",
       "      <td>NaN</td>\n",
       "      <td>NaN</td>\n",
       "      <td>NaN</td>\n",
       "      <td>NaN</td>\n",
       "      <td>NaN</td>\n",
       "      <td>...</td>\n",
       "      <td>NaN</td>\n",
       "      <td>NaN</td>\n",
       "      <td>NaN</td>\n",
       "      <td>NaN</td>\n",
       "      <td>NaN</td>\n",
       "      <td>NaN</td>\n",
       "      <td>NaN</td>\n",
       "      <td>1.0</td>\n",
       "      <td>NaN</td>\n",
       "      <td>NaN</td>\n",
       "    </tr>\n",
       "    <tr>\n",
       "      <th>B00ZQC73O8</th>\n",
       "      <td>NaN</td>\n",
       "      <td>NaN</td>\n",
       "      <td>NaN</td>\n",
       "      <td>NaN</td>\n",
       "      <td>NaN</td>\n",
       "      <td>NaN</td>\n",
       "      <td>NaN</td>\n",
       "      <td>NaN</td>\n",
       "      <td>NaN</td>\n",
       "      <td>NaN</td>\n",
       "      <td>...</td>\n",
       "      <td>NaN</td>\n",
       "      <td>NaN</td>\n",
       "      <td>NaN</td>\n",
       "      <td>NaN</td>\n",
       "      <td>NaN</td>\n",
       "      <td>NaN</td>\n",
       "      <td>NaN</td>\n",
       "      <td>5.0</td>\n",
       "      <td>NaN</td>\n",
       "      <td>NaN</td>\n",
       "    </tr>\n",
       "    <tr>\n",
       "      <th>B01C93CWSI</th>\n",
       "      <td>NaN</td>\n",
       "      <td>NaN</td>\n",
       "      <td>NaN</td>\n",
       "      <td>NaN</td>\n",
       "      <td>NaN</td>\n",
       "      <td>NaN</td>\n",
       "      <td>NaN</td>\n",
       "      <td>NaN</td>\n",
       "      <td>NaN</td>\n",
       "      <td>NaN</td>\n",
       "      <td>...</td>\n",
       "      <td>NaN</td>\n",
       "      <td>NaN</td>\n",
       "      <td>NaN</td>\n",
       "      <td>NaN</td>\n",
       "      <td>NaN</td>\n",
       "      <td>NaN</td>\n",
       "      <td>NaN</td>\n",
       "      <td>NaN</td>\n",
       "      <td>NaN</td>\n",
       "      <td>NaN</td>\n",
       "    </tr>\n",
       "    <tr>\n",
       "      <th>B01C93CWU6</th>\n",
       "      <td>NaN</td>\n",
       "      <td>NaN</td>\n",
       "      <td>NaN</td>\n",
       "      <td>NaN</td>\n",
       "      <td>NaN</td>\n",
       "      <td>NaN</td>\n",
       "      <td>NaN</td>\n",
       "      <td>NaN</td>\n",
       "      <td>NaN</td>\n",
       "      <td>NaN</td>\n",
       "      <td>...</td>\n",
       "      <td>NaN</td>\n",
       "      <td>NaN</td>\n",
       "      <td>NaN</td>\n",
       "      <td>NaN</td>\n",
       "      <td>NaN</td>\n",
       "      <td>NaN</td>\n",
       "      <td>NaN</td>\n",
       "      <td>1.0</td>\n",
       "      <td>NaN</td>\n",
       "      <td>NaN</td>\n",
       "    </tr>\n",
       "    <tr>\n",
       "      <th>B01GW3ODBU</th>\n",
       "      <td>NaN</td>\n",
       "      <td>NaN</td>\n",
       "      <td>NaN</td>\n",
       "      <td>NaN</td>\n",
       "      <td>NaN</td>\n",
       "      <td>NaN</td>\n",
       "      <td>NaN</td>\n",
       "      <td>NaN</td>\n",
       "      <td>NaN</td>\n",
       "      <td>NaN</td>\n",
       "      <td>...</td>\n",
       "      <td>NaN</td>\n",
       "      <td>NaN</td>\n",
       "      <td>NaN</td>\n",
       "      <td>NaN</td>\n",
       "      <td>NaN</td>\n",
       "      <td>NaN</td>\n",
       "      <td>NaN</td>\n",
       "      <td>NaN</td>\n",
       "      <td>NaN</td>\n",
       "      <td>NaN</td>\n",
       "    </tr>\n",
       "  </tbody>\n",
       "</table>\n",
       "<p>102 rows × 685 columns</p>\n",
       "</div>"
      ],
      "text/plain": [
       "reviewerID  A0743345UFTOA4V1Z7W  A103KKI1Y4TFNQ  A10DZNGD2T2SP3  \\\n",
       "asin                                                              \n",
       "B0009VXBAQ                  NaN             NaN             NaN   \n",
       "B000B9RI14                  NaN             NaN             NaN   \n",
       "B000FQ2D5E                  NaN             NaN             NaN   \n",
       "B000FQ2DTA                  NaN             NaN             NaN   \n",
       "B000FQ9R4E                  NaN             NaN             NaN   \n",
       "...                         ...             ...             ...   \n",
       "B00ZQB28XK                  NaN             NaN             NaN   \n",
       "B00ZQC73O8                  NaN             NaN             NaN   \n",
       "B01C93CWSI                  NaN             NaN             NaN   \n",
       "B01C93CWU6                  NaN             NaN             NaN   \n",
       "B01GW3ODBU                  NaN             NaN             NaN   \n",
       "\n",
       "reviewerID  A10HST9M5Z7CYR  A10O2365KD86L2  A10T653BS1I4IN  A10YGP23KD5P67  \\\n",
       "asin                                                                         \n",
       "B0009VXBAQ             NaN             NaN             NaN             NaN   \n",
       "B000B9RI14             NaN             NaN             NaN             NaN   \n",
       "B000FQ2D5E             NaN             NaN             NaN             NaN   \n",
       "B000FQ2DTA             NaN             NaN             NaN             NaN   \n",
       "B000FQ9R4E             NaN             NaN             NaN             NaN   \n",
       "...                    ...             ...             ...             ...   \n",
       "B00ZQB28XK             NaN             NaN             NaN             NaN   \n",
       "B00ZQC73O8             NaN             NaN             NaN             NaN   \n",
       "B01C93CWSI             NaN             NaN             NaN             NaN   \n",
       "B01C93CWU6             NaN             NaN             NaN             NaN   \n",
       "B01GW3ODBU             NaN             NaN             NaN             NaN   \n",
       "\n",
       "reviewerID  A1120M9ZK2U3FQ  A1167RGXBQY7JP  A11F5CNC4KJB3Q  ...  \\\n",
       "asin                                                        ...   \n",
       "B0009VXBAQ             NaN             NaN             NaN  ...   \n",
       "B000B9RI14             NaN             NaN             NaN  ...   \n",
       "B000FQ2D5E             NaN             NaN             NaN  ...   \n",
       "B000FQ2DTA             NaN             NaN             NaN  ...   \n",
       "B000FQ9R4E             NaN             NaN             NaN  ...   \n",
       "...                    ...             ...             ...  ...   \n",
       "B00ZQB28XK             NaN             NaN             NaN  ...   \n",
       "B00ZQC73O8             NaN             NaN             NaN  ...   \n",
       "B01C93CWSI             NaN             NaN             NaN  ...   \n",
       "B01C93CWU6             NaN             NaN             NaN  ...   \n",
       "B01GW3ODBU             NaN             NaN             NaN  ...   \n",
       "\n",
       "reviewerID  AXCCFMZVV0CHI  AXHR94EVPADQG  AXL7BHUXQCUJ2  AXRUHJ2SDGLMQ  \\\n",
       "asin                                                                     \n",
       "B0009VXBAQ            NaN            NaN            NaN            NaN   \n",
       "B000B9RI14            NaN            NaN            NaN            NaN   \n",
       "B000FQ2D5E            NaN            NaN            NaN            NaN   \n",
       "B000FQ2DTA            NaN            NaN            NaN            NaN   \n",
       "B000FQ9R4E            NaN            NaN            NaN            NaN   \n",
       "...                   ...            ...            ...            ...   \n",
       "B00ZQB28XK            NaN            NaN            NaN            NaN   \n",
       "B00ZQC73O8            NaN            NaN            NaN            NaN   \n",
       "B01C93CWSI            NaN            NaN            NaN            NaN   \n",
       "B01C93CWU6            NaN            NaN            NaN            NaN   \n",
       "B01GW3ODBU            NaN            NaN            NaN            NaN   \n",
       "\n",
       "reviewerID  AY57N4GD6TVDP  AYGVHDE350TVX  AYP0YPLSP9ISM  AYXFNO4OPWKBH  \\\n",
       "asin                                                                     \n",
       "B0009VXBAQ            NaN            NaN            NaN            NaN   \n",
       "B000B9RI14            NaN            NaN            NaN            NaN   \n",
       "B000FQ2D5E            NaN            NaN            NaN            NaN   \n",
       "B000FQ2DTA            NaN            NaN            NaN            NaN   \n",
       "B000FQ9R4E            NaN            NaN            NaN            NaN   \n",
       "...                   ...            ...            ...            ...   \n",
       "B00ZQB28XK            NaN            NaN            NaN            1.0   \n",
       "B00ZQC73O8            NaN            NaN            NaN            5.0   \n",
       "B01C93CWSI            NaN            NaN            NaN            NaN   \n",
       "B01C93CWU6            NaN            NaN            NaN            1.0   \n",
       "B01GW3ODBU            NaN            NaN            NaN            NaN   \n",
       "\n",
       "reviewerID  AZ2D9N3CSCAJ2  AZYWRH9CQSB2Q  \n",
       "asin                                      \n",
       "B0009VXBAQ            NaN            NaN  \n",
       "B000B9RI14            5.0            NaN  \n",
       "B000FQ2D5E            NaN            NaN  \n",
       "B000FQ2DTA            NaN            NaN  \n",
       "B000FQ9R4E            NaN            NaN  \n",
       "...                   ...            ...  \n",
       "B00ZQB28XK            NaN            NaN  \n",
       "B00ZQC73O8            NaN            NaN  \n",
       "B01C93CWSI            NaN            NaN  \n",
       "B01C93CWU6            NaN            NaN  \n",
       "B01GW3ODBU            NaN            NaN  \n",
       "\n",
       "[102 rows x 685 columns]"
      ]
     },
     "execution_count": 118,
     "metadata": {},
     "output_type": "execute_result"
    }
   ],
   "source": [
    "recomendacao = final_overall.pivot_table(index='asin',columns='reviewerID',values='overall')\n",
    "recomendacao"
   ]
  },
  {
   "cell_type": "code",
   "execution_count": 119,
   "metadata": {},
   "outputs": [],
   "source": [
    "recomendacao.fillna(0,inplace=True)"
   ]
  },
  {
   "cell_type": "code",
   "execution_count": 122,
   "metadata": {},
   "outputs": [],
   "source": [
    "similarity_scores = cosine_similarity(recomendacao)"
   ]
  },
  {
   "cell_type": "code",
   "execution_count": 123,
   "metadata": {},
   "outputs": [
    {
     "data": {
      "text/plain": [
       "array([[1.        , 0.08033137, 0.08716267, ..., 0.        , 0.04411759,\n",
       "        0.        ],\n",
       "       [0.08033137, 1.        , 0.02806982, ..., 0.        , 0.03196711,\n",
       "        0.        ],\n",
       "       [0.08716267, 0.02806982, 1.        , ..., 0.04090607, 0.03853952,\n",
       "        0.        ],\n",
       "       ...,\n",
       "       [0.        , 0.        , 0.04090607, ..., 1.        , 0.52175847,\n",
       "        0.08975749],\n",
       "       [0.04411759, 0.03196711, 0.03853952, ..., 0.52175847, 1.        ,\n",
       "        0.04228236],\n",
       "       [0.        , 0.        , 0.        , ..., 0.08975749, 0.04228236,\n",
       "        1.        ]])"
      ]
     },
     "execution_count": 123,
     "metadata": {},
     "output_type": "execute_result"
    }
   ],
   "source": [
    "similarity_scores"
   ]
  },
  {
   "cell_type": "code",
   "execution_count": 124,
   "metadata": {},
   "outputs": [
    {
     "data": {
      "text/plain": [
       "(102, 102)"
      ]
     },
     "execution_count": 124,
     "metadata": {},
     "output_type": "execute_result"
    }
   ],
   "source": [
    "similarity_scores.shape"
   ]
  },
  {
   "cell_type": "code",
   "execution_count": 138,
   "metadata": {},
   "outputs": [
    {
     "data": {
      "text/plain": [
       "0"
      ]
     },
     "execution_count": 138,
     "metadata": {},
     "output_type": "execute_result"
    }
   ],
   "source": [
    "np.where(recomendacao.index=='B0009VXBAQ')[0][0]"
   ]
  },
  {
   "cell_type": "code",
   "execution_count": 132,
   "metadata": {},
   "outputs": [],
   "source": [
    "def recommend(product):\n",
    "    # index fetch\n",
    "    index = np.where(recomendacao.index==product)[0][0]\n",
    "    similar_items = sorted(list(enumerate(similarity_scores[index])),key=lambda x:x[1],reverse=True)[1:6]\n",
    "    \n",
    "    data = []\n",
    "    for i in similar_items:\n",
    "        item = []\n",
    "        temp_df = df_metavg[df_metavg['asin'] == recomendacao.index[i[0]]]\n",
    "        item.extend(list(temp_df.drop_duplicates('asin')['asin'].values))\n",
    "        item.extend(list(temp_df.drop_duplicates('asin')['title'].values))\n",
    "        \n",
    "        data.append(item)\n",
    "    \n",
    "    return data"
   ]
  },
  {
   "cell_type": "code",
   "execution_count": 139,
   "metadata": {},
   "outputs": [
    {
     "data": {
      "text/plain": [
       "[['B002BRZ9G0', 'New Super Mario Bros. Wii'],\n",
       " ['B000X2RKOO', 'Perfect Shot for Wii (Colors May Vary)'],\n",
       " ['B0017Q4DGI', 'Wii Sports'],\n",
       " ['B001PO2BJI',\n",
       "  'Beastron Mario Kart Racing Wheel for Nintendo Wii, 2 Sets White Color Bundle'],\n",
       " ['B0017ZIIK6', 'Mortal Kombat vs. DC Universe - Playstation 3']]"
      ]
     },
     "execution_count": 139,
     "metadata": {},
     "output_type": "execute_result"
    }
   ],
   "source": [
    "recommend(\"B0009VXBAQ\")"
   ]
  }
 ],
 "metadata": {
  "kernelspec": {
   "display_name": "Python 3.9.7 ('base')",
   "language": "python",
   "name": "python3"
  },
  "language_info": {
   "codemirror_mode": {
    "name": "ipython",
    "version": 3
   },
   "file_extension": ".py",
   "mimetype": "text/x-python",
   "name": "python",
   "nbconvert_exporter": "python",
   "pygments_lexer": "ipython3",
   "version": "3.9.7"
  },
  "orig_nbformat": 4,
  "vscode": {
   "interpreter": {
    "hash": "fc6a87218d93c3eb3aa29305b960fd7fc714f48d8ac50960275ef4f8856ba0fd"
   }
  }
 },
 "nbformat": 4,
 "nbformat_minor": 2
}
